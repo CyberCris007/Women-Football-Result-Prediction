{
 "cells": [
  {
   "cell_type": "code",
   "execution_count": 102,
   "id": "30605f4f",
   "metadata": {},
   "outputs": [],
   "source": [
    "import pandas as pd\n",
    "import matplotlib.pyplot as plt\n",
    "import seaborn as sns\n",
    "\n",
    "import warnings"
   ]
  },
  {
   "cell_type": "code",
   "execution_count": 103,
   "id": "ad769d86",
   "metadata": {},
   "outputs": [],
   "source": [
    "warnings.filterwarnings(\"ignore\")"
   ]
  },
  {
   "cell_type": "code",
   "execution_count": 9,
   "id": "f0b36181",
   "metadata": {},
   "outputs": [
    {
     "data": {
      "text/html": [
       "<div>\n",
       "<style scoped>\n",
       "    .dataframe tbody tr th:only-of-type {\n",
       "        vertical-align: middle;\n",
       "    }\n",
       "\n",
       "    .dataframe tbody tr th {\n",
       "        vertical-align: top;\n",
       "    }\n",
       "\n",
       "    .dataframe thead th {\n",
       "        text-align: right;\n",
       "    }\n",
       "</style>\n",
       "<table border=\"1\" class=\"dataframe\">\n",
       "  <thead>\n",
       "    <tr style=\"text-align: right;\">\n",
       "      <th></th>\n",
       "      <th>date</th>\n",
       "      <th>home_team</th>\n",
       "      <th>away_team</th>\n",
       "      <th>home_score</th>\n",
       "      <th>away_score</th>\n",
       "      <th>tournament</th>\n",
       "      <th>city</th>\n",
       "      <th>country</th>\n",
       "      <th>neutral</th>\n",
       "    </tr>\n",
       "  </thead>\n",
       "  <tbody>\n",
       "    <tr>\n",
       "      <th>0</th>\n",
       "      <td>1969-11-01</td>\n",
       "      <td>Italy</td>\n",
       "      <td>France</td>\n",
       "      <td>1</td>\n",
       "      <td>0</td>\n",
       "      <td>Euro</td>\n",
       "      <td>Novara</td>\n",
       "      <td>Italy</td>\n",
       "      <td>False</td>\n",
       "    </tr>\n",
       "    <tr>\n",
       "      <th>1</th>\n",
       "      <td>1969-11-01</td>\n",
       "      <td>Denmark</td>\n",
       "      <td>England</td>\n",
       "      <td>4</td>\n",
       "      <td>3</td>\n",
       "      <td>Euro</td>\n",
       "      <td>Aosta</td>\n",
       "      <td>Italy</td>\n",
       "      <td>True</td>\n",
       "    </tr>\n",
       "    <tr>\n",
       "      <th>2</th>\n",
       "      <td>1969-11-02</td>\n",
       "      <td>England</td>\n",
       "      <td>France</td>\n",
       "      <td>2</td>\n",
       "      <td>0</td>\n",
       "      <td>Euro</td>\n",
       "      <td>Turin</td>\n",
       "      <td>Italy</td>\n",
       "      <td>True</td>\n",
       "    </tr>\n",
       "    <tr>\n",
       "      <th>3</th>\n",
       "      <td>1969-11-02</td>\n",
       "      <td>Italy</td>\n",
       "      <td>Denmark</td>\n",
       "      <td>3</td>\n",
       "      <td>1</td>\n",
       "      <td>Euro</td>\n",
       "      <td>Turin</td>\n",
       "      <td>Italy</td>\n",
       "      <td>False</td>\n",
       "    </tr>\n",
       "    <tr>\n",
       "      <th>4</th>\n",
       "      <td>1975-08-25</td>\n",
       "      <td>Thailand</td>\n",
       "      <td>Australia</td>\n",
       "      <td>3</td>\n",
       "      <td>2</td>\n",
       "      <td>AFC Championship</td>\n",
       "      <td>Hong Kong</td>\n",
       "      <td>Hong Kong</td>\n",
       "      <td>True</td>\n",
       "    </tr>\n",
       "    <tr>\n",
       "      <th>...</th>\n",
       "      <td>...</td>\n",
       "      <td>...</td>\n",
       "      <td>...</td>\n",
       "      <td>...</td>\n",
       "      <td>...</td>\n",
       "      <td>...</td>\n",
       "      <td>...</td>\n",
       "      <td>...</td>\n",
       "      <td>...</td>\n",
       "    </tr>\n",
       "    <tr>\n",
       "      <th>4879</th>\n",
       "      <td>2022-07-22</td>\n",
       "      <td>Sweden</td>\n",
       "      <td>Belgium</td>\n",
       "      <td>1</td>\n",
       "      <td>0</td>\n",
       "      <td>UEFA Euro</td>\n",
       "      <td>Leigh</td>\n",
       "      <td>Sweden</td>\n",
       "      <td>True</td>\n",
       "    </tr>\n",
       "    <tr>\n",
       "      <th>4880</th>\n",
       "      <td>2022-07-23</td>\n",
       "      <td>France</td>\n",
       "      <td>Netherlands</td>\n",
       "      <td>1</td>\n",
       "      <td>0</td>\n",
       "      <td>UEFA Euro</td>\n",
       "      <td>Rotherham</td>\n",
       "      <td>France</td>\n",
       "      <td>True</td>\n",
       "    </tr>\n",
       "    <tr>\n",
       "      <th>4881</th>\n",
       "      <td>2022-07-26</td>\n",
       "      <td>England</td>\n",
       "      <td>Sweden</td>\n",
       "      <td>4</td>\n",
       "      <td>0</td>\n",
       "      <td>UEFA Euro</td>\n",
       "      <td>Sheffield</td>\n",
       "      <td>England</td>\n",
       "      <td>False</td>\n",
       "    </tr>\n",
       "    <tr>\n",
       "      <th>4882</th>\n",
       "      <td>2022-07-27</td>\n",
       "      <td>Germany</td>\n",
       "      <td>France</td>\n",
       "      <td>2</td>\n",
       "      <td>1</td>\n",
       "      <td>UEFA Euro</td>\n",
       "      <td>Milton Keynes</td>\n",
       "      <td>Germany</td>\n",
       "      <td>True</td>\n",
       "    </tr>\n",
       "    <tr>\n",
       "      <th>4883</th>\n",
       "      <td>2022-07-31</td>\n",
       "      <td>England</td>\n",
       "      <td>Germany</td>\n",
       "      <td>2</td>\n",
       "      <td>1</td>\n",
       "      <td>UEFA Euro</td>\n",
       "      <td>London</td>\n",
       "      <td>England</td>\n",
       "      <td>False</td>\n",
       "    </tr>\n",
       "  </tbody>\n",
       "</table>\n",
       "<p>4884 rows × 9 columns</p>\n",
       "</div>"
      ],
      "text/plain": [
       "            date home_team    away_team  home_score  away_score  \\\n",
       "0     1969-11-01     Italy       France           1           0   \n",
       "1     1969-11-01   Denmark      England           4           3   \n",
       "2     1969-11-02   England       France           2           0   \n",
       "3     1969-11-02     Italy      Denmark           3           1   \n",
       "4     1975-08-25  Thailand    Australia           3           2   \n",
       "...          ...       ...          ...         ...         ...   \n",
       "4879  2022-07-22    Sweden      Belgium           1           0   \n",
       "4880  2022-07-23    France  Netherlands           1           0   \n",
       "4881  2022-07-26   England       Sweden           4           0   \n",
       "4882  2022-07-27   Germany       France           2           1   \n",
       "4883  2022-07-31   England      Germany           2           1   \n",
       "\n",
       "            tournament           city    country  neutral  \n",
       "0                 Euro         Novara      Italy    False  \n",
       "1                 Euro          Aosta      Italy     True  \n",
       "2                 Euro          Turin      Italy     True  \n",
       "3                 Euro          Turin      Italy    False  \n",
       "4     AFC Championship      Hong Kong  Hong Kong     True  \n",
       "...                ...            ...        ...      ...  \n",
       "4879         UEFA Euro          Leigh     Sweden     True  \n",
       "4880         UEFA Euro      Rotherham     France     True  \n",
       "4881         UEFA Euro      Sheffield    England    False  \n",
       "4882         UEFA Euro  Milton Keynes    Germany     True  \n",
       "4883         UEFA Euro         London    England    False  \n",
       "\n",
       "[4884 rows x 9 columns]"
      ]
     },
     "execution_count": 9,
     "metadata": {},
     "output_type": "execute_result"
    }
   ],
   "source": [
    "df = pd.read_csv('cleaned_results.csv')\n",
    "df"
   ]
  },
  {
   "cell_type": "code",
   "execution_count": 55,
   "id": "db542840",
   "metadata": {},
   "outputs": [
    {
     "data": {
      "text/plain": [
       "dtype('<M8[ns]')"
      ]
     },
     "execution_count": 55,
     "metadata": {},
     "output_type": "execute_result"
    }
   ],
   "source": [
    "df['date'].dtype"
   ]
  },
  {
   "cell_type": "markdown",
   "id": "b0fddc1a",
   "metadata": {},
   "source": [
    "Histogram for Home score values"
   ]
  },
  {
   "cell_type": "code",
   "execution_count": 10,
   "id": "7df28936",
   "metadata": {},
   "outputs": [
    {
     "data": {
      "image/png": "[encoded data removed]",
      "text/plain": [
       "<Figure size 432x288 with 1 Axes>"
      ]
     },
     "metadata": {
      "needs_background": "light"
     },
     "output_type": "display_data"
    }
   ],
   "source": [
    "plt.hist(df['home_score'], bins=10)\n",
    "plt.xlabel('Home Score')\n",
    "plt.ylabel('Frequency')\n",
    "plt.title('Distribution of Home Scores')\n",
    "plt.show()"
   ]
  },
  {
   "cell_type": "markdown",
   "id": "023859b1",
   "metadata": {},
   "source": [
    "Statistical Analysis"
   ]
  },
  {
   "cell_type": "code",
   "execution_count": 11,
   "id": "e9a68e8c",
   "metadata": {},
   "outputs": [
    {
     "name": "stdout",
     "output_type": "stream",
     "text": [
      "Home score mean value :  2.272727272727273\n",
      "Home score median value :  1.0\n"
     ]
    }
   ],
   "source": [
    "home_score_mean = df['home_score'].mean()\n",
    "home_score_median = df['home_score'].median()\n",
    "\n",
    "print(\"Home score mean value : \", home_score_mean)\n",
    "print(\"Home score median value : \", home_score_median)"
   ]
  },
  {
   "cell_type": "markdown",
   "id": "6379900e",
   "metadata": {},
   "source": [
    "Bar plot for different Tournaments"
   ]
  },
  {
   "cell_type": "code",
   "execution_count": 12,
   "id": "098fadf6",
   "metadata": {},
   "outputs": [
    {
     "data": {
      "image/png": "[encoded data removed]",
      "text/plain": [
       "<Figure size 720x432 with 1 Axes>"
      ]
     },
     "metadata": {
      "needs_background": "light"
     },
     "output_type": "display_data"
    }
   ],
   "source": [
    "plt.figure(figsize=(10, 6))\n",
    "sns.countplot(x='tournament', data=df, color='blue')\n",
    "plt.xticks(rotation=90)\n",
    "plt.xlabel('Tournament')\n",
    "plt.ylabel('Count')\n",
    "plt.title('Matches Played in various Tournaments')\n",
    "plt.show()"
   ]
  },
  {
   "cell_type": "code",
   "execution_count": 16,
   "id": "a30fc70f",
   "metadata": {},
   "outputs": [
    {
     "data": {
      "text/plain": [
       "0          Italy\n",
       "1        Denmark\n",
       "2        England\n",
       "3          Italy\n",
       "4       Thailand\n",
       "          ...   \n",
       "4879      Sweden\n",
       "4880      France\n",
       "4881     England\n",
       "4882     Germany\n",
       "4883     England\n",
       "Name: home_team, Length: 2565, dtype: object"
      ]
     },
     "execution_count": 16,
     "metadata": {},
     "output_type": "execute_result"
    }
   ],
   "source": [
    "# Identify the team with the most wins\n",
    "winning_teams = df.loc[df['home_score'] > df['away_score'], 'home_team']\n",
    "winning_teams\n"
   ]
  },
  {
   "cell_type": "code",
   "execution_count": 17,
   "id": "02fb7d06",
   "metadata": {},
   "outputs": [
    {
     "data": {
      "text/plain": [
       "United States           229\n",
       "Germany                 122\n",
       "China PR                116\n",
       "Norway                  116\n",
       "Sweden                  107\n",
       "                       ... \n",
       "Palestine                 1\n",
       "Benin                     1\n",
       "Armenia                   1\n",
       "Netherlands Antilles      1\n",
       "Réunion                   1\n",
       "Name: home_team, Length: 163, dtype: int64"
      ]
     },
     "execution_count": 17,
     "metadata": {},
     "output_type": "execute_result"
    }
   ],
   "source": [
    "winning_team_counts = winning_teams.value_counts()\n",
    "winning_team_counts"
   ]
  },
  {
   "cell_type": "code",
   "execution_count": 18,
   "id": "28d77c36",
   "metadata": {},
   "outputs": [
    {
     "name": "stdout",
     "output_type": "stream",
     "text": [
      "The most Winning Team is :  United States\n"
     ]
    }
   ],
   "source": [
    "most_wins_team = winning_team_counts.idxmax()\n",
    "print(\"The most Winning Team is : \", most_wins_team )"
   ]
  },
  {
   "cell_type": "code",
   "execution_count": 25,
   "id": "35e9f8a0",
   "metadata": {},
   "outputs": [
    {
     "data": {
      "text/plain": [
       "United States    229\n",
       "Germany          122\n",
       "China PR         116\n",
       "Norway           116\n",
       "Sweden           107\n",
       "Name: home_team, dtype: int64"
      ]
     },
     "execution_count": 25,
     "metadata": {},
     "output_type": "execute_result"
    }
   ],
   "source": [
    "# Top five winning teams\n",
    "winning_team_counts.head(5)"
   ]
  },
  {
   "cell_type": "markdown",
   "id": "fc5bdb8f",
   "metadata": {},
   "source": [
    "Team with the Hhighest goal scored"
   ]
  },
  {
   "cell_type": "code",
   "execution_count": 42,
   "id": "a81f0223",
   "metadata": {},
   "outputs": [
    {
     "data": {
      "text/plain": [
       "home_team\n",
       "United States           1053\n",
       "China PR                 647\n",
       "Norway                   613\n",
       "Germany                  609\n",
       "Sweden                   548\n",
       "                        ... \n",
       "Mauritania                 1\n",
       "Curaçao                    1\n",
       "Basque Country             1\n",
       "Netherlands Antilles       1\n",
       "Western Australia          1\n",
       "Length: 198, dtype: int64"
      ]
     },
     "execution_count": 42,
     "metadata": {},
     "output_type": "execute_result"
    }
   ],
   "source": [
    "home_Score = df.groupby('home_team')['home_score'].sum()\n",
    "away_Score = df.groupby('home_team')['away_score'].sum()\n",
    "total_score = home_Score+away_Score\n",
    "total_score = total_score.sort_values(ascending=False)\n",
    "total_score"
   ]
  },
  {
   "cell_type": "markdown",
   "id": "7cf1aa35",
   "metadata": {},
   "source": [
    "Best players of the Era"
   ]
  },
  {
   "cell_type": "code",
   "execution_count": 70,
   "id": "4ffc1470",
   "metadata": {},
   "outputs": [],
   "source": [
    "df_60s = df[(df['date'].dt.year>=1960) & (df['date'].dt.year<=1969)]\n",
    "df_70s = df[(df['date'].dt.year>=1970) & (df['date'].dt.year<=1979)]\n",
    "df_80s = df[(df['date'].dt.year>=1980) & (df['date'].dt.year<=1989)]\n",
    "df_90s = df[(df['date'].dt.year>=1990) & (df['date'].dt.year<=1999)]\n",
    "df_2000s = df[(df['date'].dt.year>=2000) & (df['date'].dt.year<=2009)]\n",
    "df_2010s = df[(df['date'].dt.year>=2010) & (df['date'].dt.year<=2019)]\n",
    "df_2020s = df[(df['date'].dt.year>=2020) & (df['date'].dt.year<=2029)]"
   ]
  },
  {
   "cell_type": "code",
   "execution_count": 96,
   "id": "8797dbbb",
   "metadata": {},
   "outputs": [],
   "source": [
    "def best_team(df, era):\n",
    "    winning_teams = df.loc[df['home_score'] > df['away_score'], 'home_team']\n",
    "    print(\"Top 5 winning teams of the \", era,\"s :\" )\n",
    "    print(winning_teams.head(5).values)\n",
    "    \n",
    "    print(\"-----------------------------------------------------------------\")\n",
    "    \n",
    "    home_Score = df.groupby('home_team')['home_score'].sum()\n",
    "    away_Score = df.groupby('home_team')['away_score'].sum()\n",
    "    total_score = home_Score+away_Score\n",
    "    total_score = total_score.sort_values(ascending=False)\n",
    "    \n",
    "    print(\"Top 5 teams with the highest scores in the \", era, \"s : \")\n",
    "    print(total_score.head(5).index.values)\n",
    "    \n",
    "    print(\"=================================================================\")"
   ]
  },
  {
   "cell_type": "code",
   "execution_count": 97,
   "id": "d8827d15",
   "metadata": {},
   "outputs": [
    {
     "name": "stdout",
     "output_type": "stream",
     "text": [
      "Top 5 winning teams of the  60 s :\n",
      "['Italy' 'Denmark' 'England' 'Italy']\n",
      "-----------------------------------------------------------------\n",
      "Top 5 teams with the highest scores in the  60 s : \n",
      "['Denmark' 'Italy' 'England']\n",
      "=================================================================\n",
      "Top 5 winning teams of the  70 s :\n",
      "['Thailand' 'Thailand' 'New Zealand' 'Australia' 'New Zealand']\n",
      "-----------------------------------------------------------------\n",
      "Top 5 teams with the highest scores in the  70 s : \n",
      "['Thailand' 'Taiwan' 'Italy' 'New Zealand' 'Australia']\n",
      "=================================================================\n",
      "Top 5 winning teams of the  80 s :\n",
      "['India S' 'India S' 'Taiwan' 'Western Australia' 'India N']\n",
      "-----------------------------------------------------------------\n",
      "Top 5 teams with the highest scores in the  80 s : \n",
      "['Thailand' 'Taiwan' 'England' 'Sweden' 'Italy']\n",
      "=================================================================\n",
      "Top 5 winning teams of the  90 s :\n",
      "['Italy' 'England' 'Denmark' 'Switzerland' 'Finland']\n",
      "-----------------------------------------------------------------\n",
      "Top 5 teams with the highest scores in the  90 s : \n",
      "['Norway' 'China PR' 'Brazil' 'Japan' 'United States']\n",
      "=================================================================\n",
      "Top 5 winning teams of the  2000 s :\n",
      "['Turkey' 'England' 'Greece' 'Sweden' 'China PR']\n",
      "-----------------------------------------------------------------\n",
      "Top 5 teams with the highest scores in the  2000 s : \n",
      "['China PR' 'Germany' 'United States' 'Sweden' 'Norway']\n",
      "=================================================================\n",
      "Top 5 winning teams of the  2010 s :\n",
      "['Germany' 'United States' 'Portugal' 'Romania' 'New Zealand']\n",
      "-----------------------------------------------------------------\n",
      "Top 5 teams with the highest scores in the  2010 s : \n",
      "['United States' 'Germany' 'Portugal' 'Sweden' 'New Zealand']\n",
      "=================================================================\n",
      "Top 5 winning teams of the  2020 s :\n",
      "['United States' 'United States' 'United States' 'United States'\n",
      " 'United States']\n",
      "-----------------------------------------------------------------\n",
      "Top 5 teams with the highest scores in the  2020 s : \n",
      "['United States' 'France' 'Sweden' 'Spain' 'England']\n",
      "=================================================================\n"
     ]
    }
   ],
   "source": [
    "best_team(df_60s, \"60\")\n",
    "best_team(df_70s, \"70\")\n",
    "best_team(df_80s, \"80\")\n",
    "best_team(df_90s, \"90\")\n",
    "best_team(df_2000s, \"2000\")\n",
    "best_team(df_2010s, \"2010\")\n",
    "best_team(df_2020s, \"2020\")"
   ]
  },
  {
   "cell_type": "markdown",
   "id": "1a8a97f4",
   "metadata": {},
   "source": [
    "Advantage of Playing at home"
   ]
  },
  {
   "cell_type": "code",
   "execution_count": 98,
   "id": "2e550531",
   "metadata": {},
   "outputs": [
    {
     "name": "stdout",
     "output_type": "stream",
     "text": [
      "Home advantage percentage :  52.518427518427515 %\n",
      "Away advantage percentage :  33.435708435708435 %\n",
      "Draw percentage :  14.045864045864045 %\n"
     ]
    }
   ],
   "source": [
    "home_wins = df.loc[df['home_score'] > df['away_score']]\n",
    "away_wins = df.loc[df['home_score'] < df['away_score']]\n",
    "draws = df.loc[df['home_score'] == df['away_score']]\n",
    "home_advantage = (len(home_wins) / len(df)) * 100\n",
    "away_advantage = (len(away_wins) / len(df)) * 100\n",
    "draw_percentage = (len(draws) / len(df)) * 100\n",
    "\n",
    "print(\"Home advantage percentage : \", home_advantage, \"%\")\n",
    "print(\"Away advantage percentage : \", away_advantage, \"%\")\n",
    "print(\"Draw percentage : \", draw_percentage, \"%\" )"
   ]
  },
  {
   "cell_type": "markdown",
   "id": "3514450a",
   "metadata": {},
   "source": [
    "New Countries over the years"
   ]
  },
  {
   "cell_type": "code",
   "execution_count": 104,
   "id": "d4fd501c",
   "metadata": {},
   "outputs": [
    {
     "data": {
      "image/png": "[encoded data removed]",
      "text/plain": [
       "<Figure size 432x288 with 1 Axes>"
      ]
     },
     "metadata": {
      "needs_background": "light"
     },
     "output_type": "display_data"
    }
   ],
   "source": [
    "df['year'] = df['date'].dt.year\n",
    "unique_countries_by_year = df.groupby('year')['home_team', 'away_team'].nunique().sum(axis=1)\n",
    "\n",
    "plt.plot(unique_countries_by_year.index, unique_countries_by_year.values)\n",
    "plt.xlabel('Year')\n",
    "plt.ylabel('Number of Unique Countries')\n",
    "plt.title('Change in Number of Countries Over Time')\n",
    "plt.show()"
   ]
  },
  {
   "cell_type": "code",
   "execution_count": null,
   "id": "4b52bef6",
   "metadata": {},
   "outputs": [],
   "source": []
  },
  {
   "cell_type": "code",
   "execution_count": null,
   "id": "35a6d1e7",
   "metadata": {},
   "outputs": [],
   "source": []
  }
 ],
 "metadata": {
  "kernelspec": {
   "display_name": "Python 3",
   "language": "python",
   "name": "python3"
  },
  "language_info": {
   "codemirror_mode": {
    "name": "ipython",
    "version": 3
   },
   "file_extension": ".py",
   "mimetype": "text/x-python",
   "name": "python",
   "nbconvert_exporter": "python",
   "pygments_lexer": "ipython3",
   "version": "3.9.12"
  }
 },
 "nbformat": 4,
 "nbformat_minor": 5
}
