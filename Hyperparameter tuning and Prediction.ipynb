{
  "cells": [
    {
      "cell_type": "code",
      "execution_count": 39,
      "id": "b8eda84d",
      "metadata": {
        "id": "b8eda84d"
      },
      "outputs": [],
      "source": [
        "import pandas as pd\n",
        "import matplotlib.pyplot as plt\n",
        "import seaborn as sns\n",
        "import numpy as np\n",
        "%matplotlib inline"
      ]
    },
    {
      "cell_type": "code",
      "execution_count": 40,
      "id": "fa7fde0a",
      "metadata": {
        "id": "fa7fde0a"
      },
      "outputs": [],
      "source": [
        "url = 'https://raw.githubusercontent.com/bechosen-spec/Women-Football-Result-Prediction/main/cleaned_results.csv'\n",
        "df = pd.read_csv(url)"
      ]
    },
    {
      "cell_type": "code",
      "execution_count": 41,
      "id": "5f12a124",
      "metadata": {
        "colab": {
          "base_uri": "https://localhost:8080/",
          "height": 250
        },
        "id": "5f12a124",
        "outputId": "6ef91b9c-32b0-4881-df01-f661b64d1b28"
      },
      "outputs": [
        {
          "output_type": "execute_result",
          "data": {
            "text/plain": [
              "         date home_team  away_team  home_score  away_score        tournament  \\\n",
              "0  1969-11-01     Italy     France           1           0              Euro   \n",
              "1  1969-11-01   Denmark    England           4           3              Euro   \n",
              "2  1969-11-02   England     France           2           0              Euro   \n",
              "3  1969-11-02     Italy    Denmark           3           1              Euro   \n",
              "4  1975-08-25  Thailand  Australia           3           2  AFC Championship   \n",
              "\n",
              "        city    country  neutral  \n",
              "0     Novara      Italy    False  \n",
              "1      Aosta      Italy     True  \n",
              "2      Turin      Italy     True  \n",
              "3      Turin      Italy    False  \n",
              "4  Hong Kong  Hong Kong     True  "
            ],
            "text/html": [
              "\n",
              "  <div id=\"df-a88644a0-87e3-41c4-80ad-5fcb42564074\">\n",
              "    <div class=\"colab-df-container\">\n",
              "      <div>\n",
              "<style scoped>\n",
              "    .dataframe tbody tr th:only-of-type {\n",
              "        vertical-align: middle;\n",
              "    }\n",
              "\n",
              "    .dataframe tbody tr th {\n",
              "        vertical-align: top;\n",
              "    }\n",
              "\n",
              "    .dataframe thead th {\n",
              "        text-align: right;\n",
              "    }\n",
              "</style>\n",
              "<table border=\"1\" class=\"dataframe\">\n",
              "  <thead>\n",
              "    <tr style=\"text-align: right;\">\n",
              "      <th></th>\n",
              "      <th>date</th>\n",
              "      <th>home_team</th>\n",
              "      <th>away_team</th>\n",
              "      <th>home_score</th>\n",
              "      <th>away_score</th>\n",
              "      <th>tournament</th>\n",
              "      <th>city</th>\n",
              "      <th>country</th>\n",
              "      <th>neutral</th>\n",
              "    </tr>\n",
              "  </thead>\n",
              "  <tbody>\n",
              "    <tr>\n",
              "      <th>0</th>\n",
              "      <td>1969-11-01</td>\n",
              "      <td>Italy</td>\n",
              "      <td>France</td>\n",
              "      <td>1</td>\n",
              "      <td>0</td>\n",
              "      <td>Euro</td>\n",
              "      <td>Novara</td>\n",
              "      <td>Italy</td>\n",
              "      <td>False</td>\n",
              "    </tr>\n",
              "    <tr>\n",
              "      <th>1</th>\n",
              "      <td>1969-11-01</td>\n",
              "      <td>Denmark</td>\n",
              "      <td>England</td>\n",
              "      <td>4</td>\n",
              "      <td>3</td>\n",
              "      <td>Euro</td>\n",
              "      <td>Aosta</td>\n",
              "      <td>Italy</td>\n",
              "      <td>True</td>\n",
              "    </tr>\n",
              "    <tr>\n",
              "      <th>2</th>\n",
              "      <td>1969-11-02</td>\n",
              "      <td>England</td>\n",
              "      <td>France</td>\n",
              "      <td>2</td>\n",
              "      <td>0</td>\n",
              "      <td>Euro</td>\n",
              "      <td>Turin</td>\n",
              "      <td>Italy</td>\n",
              "      <td>True</td>\n",
              "    </tr>\n",
              "    <tr>\n",
              "      <th>3</th>\n",
              "      <td>1969-11-02</td>\n",
              "      <td>Italy</td>\n",
              "      <td>Denmark</td>\n",
              "      <td>3</td>\n",
              "      <td>1</td>\n",
              "      <td>Euro</td>\n",
              "      <td>Turin</td>\n",
              "      <td>Italy</td>\n",
              "      <td>False</td>\n",
              "    </tr>\n",
              "    <tr>\n",
              "      <th>4</th>\n",
              "      <td>1975-08-25</td>\n",
              "      <td>Thailand</td>\n",
              "      <td>Australia</td>\n",
              "      <td>3</td>\n",
              "      <td>2</td>\n",
              "      <td>AFC Championship</td>\n",
              "      <td>Hong Kong</td>\n",
              "      <td>Hong Kong</td>\n",
              "      <td>True</td>\n",
              "    </tr>\n",
              "  </tbody>\n",
              "</table>\n",
              "</div>\n",
              "      <button class=\"colab-df-convert\" onclick=\"convertToInteractive('df-a88644a0-87e3-41c4-80ad-5fcb42564074')\"\n",
              "              title=\"Convert this dataframe to an interactive table.\"\n",
              "              style=\"display:none;\">\n",
              "        \n",
              "  <svg xmlns=\"http://www.w3.org/2000/svg\" height=\"24px\"viewBox=\"0 0 24 24\"\n",
              "       width=\"24px\">\n",
              "    <path d=\"M0 0h24v24H0V0z\" fill=\"none\"/>\n",
              "    <path d=\"M18.56 5.44l.94 2.06.94-2.06 2.06-.94-2.06-.94-.94-2.06-.94 2.06-2.06.94zm-11 1L8.5 8.5l.94-2.06 2.06-.94-2.06-.94L8.5 2.5l-.94 2.06-2.06.94zm10 10l.94 2.06.94-2.06 2.06-.94-2.06-.94-.94-2.06-.94 2.06-2.06.94z\"/><path d=\"M17.41 7.96l-1.37-1.37c-.4-.4-.92-.59-1.43-.59-.52 0-1.04.2-1.43.59L10.3 9.45l-7.72 7.72c-.78.78-.78 2.05 0 2.83L4 21.41c.39.39.9.59 1.41.59.51 0 1.02-.2 1.41-.59l7.78-7.78 2.81-2.81c.8-.78.8-2.07 0-2.86zM5.41 20L4 18.59l7.72-7.72 1.47 1.35L5.41 20z\"/>\n",
              "  </svg>\n",
              "      </button>\n",
              "      \n",
              "  <style>\n",
              "    .colab-df-container {\n",
              "      display:flex;\n",
              "      flex-wrap:wrap;\n",
              "      gap: 12px;\n",
              "    }\n",
              "\n",
              "    .colab-df-convert {\n",
              "      background-color: #E8F0FE;\n",
              "      border: none;\n",
              "      border-radius: 50%;\n",
              "      cursor: pointer;\n",
              "      display: none;\n",
              "      fill: #1967D2;\n",
              "      height: 32px;\n",
              "      padding: 0 0 0 0;\n",
              "      width: 32px;\n",
              "    }\n",
              "\n",
              "    .colab-df-convert:hover {\n",
              "      background-color: #E2EBFA;\n",
              "      box-shadow: 0px 1px 2px rgba(60, 64, 67, 0.3), 0px 1px 3px 1px rgba(60, 64, 67, 0.15);\n",
              "      fill: #174EA6;\n",
              "    }\n",
              "\n",
              "    [theme=dark] .colab-df-convert {\n",
              "      background-color: #3B4455;\n",
              "      fill: #D2E3FC;\n",
              "    }\n",
              "\n",
              "    [theme=dark] .colab-df-convert:hover {\n",
              "      background-color: #434B5C;\n",
              "      box-shadow: 0px 1px 3px 1px rgba(0, 0, 0, 0.15);\n",
              "      filter: drop-shadow(0px 1px 2px rgba(0, 0, 0, 0.3));\n",
              "      fill: #FFFFFF;\n",
              "    }\n",
              "  </style>\n",
              "\n",
              "      <script>\n",
              "        const buttonEl =\n",
              "          document.querySelector('#df-a88644a0-87e3-41c4-80ad-5fcb42564074 button.colab-df-convert');\n",
              "        buttonEl.style.display =\n",
              "          google.colab.kernel.accessAllowed ? 'block' : 'none';\n",
              "\n",
              "        async function convertToInteractive(key) {\n",
              "          const element = document.querySelector('#df-a88644a0-87e3-41c4-80ad-5fcb42564074');\n",
              "          const dataTable =\n",
              "            await google.colab.kernel.invokeFunction('convertToInteractive',\n",
              "                                                     [key], {});\n",
              "          if (!dataTable) return;\n",
              "\n",
              "          const docLinkHtml = 'Like what you see? Visit the ' +\n",
              "            '<a target=\"_blank\" href=https://colab.research.google.com/notebooks/data_table.ipynb>data table notebook</a>'\n",
              "            + ' to learn more about interactive tables.';\n",
              "          element.innerHTML = '';\n",
              "          dataTable['output_type'] = 'display_data';\n",
              "          await google.colab.output.renderOutput(dataTable, element);\n",
              "          const docLink = document.createElement('div');\n",
              "          docLink.innerHTML = docLinkHtml;\n",
              "          element.appendChild(docLink);\n",
              "        }\n",
              "      </script>\n",
              "    </div>\n",
              "  </div>\n",
              "  "
            ]
          },
          "metadata": {},
          "execution_count": 41
        }
      ],
      "source": [
        "df.head()"
      ]
    },
    {
      "cell_type": "code",
      "execution_count": 42,
      "id": "ed0c8032",
      "metadata": {
        "colab": {
          "base_uri": "https://localhost:8080/",
          "height": 337
        },
        "id": "ed0c8032",
        "outputId": "27af4ec6-4767-4bb2-de99-db778aef5d44"
      },
      "outputs": [
        {
          "output_type": "execute_result",
          "data": {
            "text/plain": [
              "        date home_team  away_team  home_score  away_score        tournament  \\\n",
              "0 1969-11-01     Italy     France           1           0              Euro   \n",
              "1 1969-11-01   Denmark    England           4           3              Euro   \n",
              "2 1969-11-02   England     France           2           0              Euro   \n",
              "3 1969-11-02     Italy    Denmark           3           1              Euro   \n",
              "4 1975-08-25  Thailand  Australia           3           2  AFC Championship   \n",
              "\n",
              "        city    country  neutral  year  \n",
              "0     Novara      Italy    False  1969  \n",
              "1      Aosta      Italy     True  1969  \n",
              "2      Turin      Italy     True  1969  \n",
              "3      Turin      Italy    False  1969  \n",
              "4  Hong Kong  Hong Kong     True  1975  "
            ],
            "text/html": [
              "\n",
              "  <div id=\"df-59bf6eb5-34ff-4e5a-8bcb-18a18cf8957a\">\n",
              "    <div class=\"colab-df-container\">\n",
              "      <div>\n",
              "<style scoped>\n",
              "    .dataframe tbody tr th:only-of-type {\n",
              "        vertical-align: middle;\n",
              "    }\n",
              "\n",
              "    .dataframe tbody tr th {\n",
              "        vertical-align: top;\n",
              "    }\n",
              "\n",
              "    .dataframe thead th {\n",
              "        text-align: right;\n",
              "    }\n",
              "</style>\n",
              "<table border=\"1\" class=\"dataframe\">\n",
              "  <thead>\n",
              "    <tr style=\"text-align: right;\">\n",
              "      <th></th>\n",
              "      <th>date</th>\n",
              "      <th>home_team</th>\n",
              "      <th>away_team</th>\n",
              "      <th>home_score</th>\n",
              "      <th>away_score</th>\n",
              "      <th>tournament</th>\n",
              "      <th>city</th>\n",
              "      <th>country</th>\n",
              "      <th>neutral</th>\n",
              "      <th>year</th>\n",
              "    </tr>\n",
              "  </thead>\n",
              "  <tbody>\n",
              "    <tr>\n",
              "      <th>0</th>\n",
              "      <td>1969-11-01</td>\n",
              "      <td>Italy</td>\n",
              "      <td>France</td>\n",
              "      <td>1</td>\n",
              "      <td>0</td>\n",
              "      <td>Euro</td>\n",
              "      <td>Novara</td>\n",
              "      <td>Italy</td>\n",
              "      <td>False</td>\n",
              "      <td>1969</td>\n",
              "    </tr>\n",
              "    <tr>\n",
              "      <th>1</th>\n",
              "      <td>1969-11-01</td>\n",
              "      <td>Denmark</td>\n",
              "      <td>England</td>\n",
              "      <td>4</td>\n",
              "      <td>3</td>\n",
              "      <td>Euro</td>\n",
              "      <td>Aosta</td>\n",
              "      <td>Italy</td>\n",
              "      <td>True</td>\n",
              "      <td>1969</td>\n",
              "    </tr>\n",
              "    <tr>\n",
              "      <th>2</th>\n",
              "      <td>1969-11-02</td>\n",
              "      <td>England</td>\n",
              "      <td>France</td>\n",
              "      <td>2</td>\n",
              "      <td>0</td>\n",
              "      <td>Euro</td>\n",
              "      <td>Turin</td>\n",
              "      <td>Italy</td>\n",
              "      <td>True</td>\n",
              "      <td>1969</td>\n",
              "    </tr>\n",
              "    <tr>\n",
              "      <th>3</th>\n",
              "      <td>1969-11-02</td>\n",
              "      <td>Italy</td>\n",
              "      <td>Denmark</td>\n",
              "      <td>3</td>\n",
              "      <td>1</td>\n",
              "      <td>Euro</td>\n",
              "      <td>Turin</td>\n",
              "      <td>Italy</td>\n",
              "      <td>False</td>\n",
              "      <td>1969</td>\n",
              "    </tr>\n",
              "    <tr>\n",
              "      <th>4</th>\n",
              "      <td>1975-08-25</td>\n",
              "      <td>Thailand</td>\n",
              "      <td>Australia</td>\n",
              "      <td>3</td>\n",
              "      <td>2</td>\n",
              "      <td>AFC Championship</td>\n",
              "      <td>Hong Kong</td>\n",
              "      <td>Hong Kong</td>\n",
              "      <td>True</td>\n",
              "      <td>1975</td>\n",
              "    </tr>\n",
              "  </tbody>\n",
              "</table>\n",
              "</div>\n",
              "      <button class=\"colab-df-convert\" onclick=\"convertToInteractive('df-59bf6eb5-34ff-4e5a-8bcb-18a18cf8957a')\"\n",
              "              title=\"Convert this dataframe to an interactive table.\"\n",
              "              style=\"display:none;\">\n",
              "        \n",
              "  <svg xmlns=\"http://www.w3.org/2000/svg\" height=\"24px\"viewBox=\"0 0 24 24\"\n",
              "       width=\"24px\">\n",
              "    <path d=\"M0 0h24v24H0V0z\" fill=\"none\"/>\n",
              "    <path d=\"M18.56 5.44l.94 2.06.94-2.06 2.06-.94-2.06-.94-.94-2.06-.94 2.06-2.06.94zm-11 1L8.5 8.5l.94-2.06 2.06-.94-2.06-.94L8.5 2.5l-.94 2.06-2.06.94zm10 10l.94 2.06.94-2.06 2.06-.94-2.06-.94-.94-2.06-.94 2.06-2.06.94z\"/><path d=\"M17.41 7.96l-1.37-1.37c-.4-.4-.92-.59-1.43-.59-.52 0-1.04.2-1.43.59L10.3 9.45l-7.72 7.72c-.78.78-.78 2.05 0 2.83L4 21.41c.39.39.9.59 1.41.59.51 0 1.02-.2 1.41-.59l7.78-7.78 2.81-2.81c.8-.78.8-2.07 0-2.86zM5.41 20L4 18.59l7.72-7.72 1.47 1.35L5.41 20z\"/>\n",
              "  </svg>\n",
              "      </button>\n",
              "      \n",
              "  <style>\n",
              "    .colab-df-container {\n",
              "      display:flex;\n",
              "      flex-wrap:wrap;\n",
              "      gap: 12px;\n",
              "    }\n",
              "\n",
              "    .colab-df-convert {\n",
              "      background-color: #E8F0FE;\n",
              "      border: none;\n",
              "      border-radius: 50%;\n",
              "      cursor: pointer;\n",
              "      display: none;\n",
              "      fill: #1967D2;\n",
              "      height: 32px;\n",
              "      padding: 0 0 0 0;\n",
              "      width: 32px;\n",
              "    }\n",
              "\n",
              "    .colab-df-convert:hover {\n",
              "      background-color: #E2EBFA;\n",
              "      box-shadow: 0px 1px 2px rgba(60, 64, 67, 0.3), 0px 1px 3px 1px rgba(60, 64, 67, 0.15);\n",
              "      fill: #174EA6;\n",
              "    }\n",
              "\n",
              "    [theme=dark] .colab-df-convert {\n",
              "      background-color: #3B4455;\n",
              "      fill: #D2E3FC;\n",
              "    }\n",
              "\n",
              "    [theme=dark] .colab-df-convert:hover {\n",
              "      background-color: #434B5C;\n",
              "      box-shadow: 0px 1px 3px 1px rgba(0, 0, 0, 0.15);\n",
              "      filter: drop-shadow(0px 1px 2px rgba(0, 0, 0, 0.3));\n",
              "      fill: #FFFFFF;\n",
              "    }\n",
              "  </style>\n",
              "\n",
              "      <script>\n",
              "        const buttonEl =\n",
              "          document.querySelector('#df-59bf6eb5-34ff-4e5a-8bcb-18a18cf8957a button.colab-df-convert');\n",
              "        buttonEl.style.display =\n",
              "          google.colab.kernel.accessAllowed ? 'block' : 'none';\n",
              "\n",
              "        async function convertToInteractive(key) {\n",
              "          const element = document.querySelector('#df-59bf6eb5-34ff-4e5a-8bcb-18a18cf8957a');\n",
              "          const dataTable =\n",
              "            await google.colab.kernel.invokeFunction('convertToInteractive',\n",
              "                                                     [key], {});\n",
              "          if (!dataTable) return;\n",
              "\n",
              "          const docLinkHtml = 'Like what you see? Visit the ' +\n",
              "            '<a target=\"_blank\" href=https://colab.research.google.com/notebooks/data_table.ipynb>data table notebook</a>'\n",
              "            + ' to learn more about interactive tables.';\n",
              "          element.innerHTML = '';\n",
              "          dataTable['output_type'] = 'display_data';\n",
              "          await google.colab.output.renderOutput(dataTable, element);\n",
              "          const docLink = document.createElement('div');\n",
              "          docLink.innerHTML = docLinkHtml;\n",
              "          element.appendChild(docLink);\n",
              "        }\n",
              "      </script>\n",
              "    </div>\n",
              "  </div>\n",
              "  "
            ]
          },
          "metadata": {},
          "execution_count": 42
        }
      ],
      "source": [
        "df['date'] = pd.to_datetime(df['date'])\n",
        "df['year'] = df['date'].dt.year\n",
        "df.head()"
      ]
    },
    {
      "cell_type": "code",
      "execution_count": 43,
      "id": "da11ccb8",
      "metadata": {
        "id": "da11ccb8"
      },
      "outputs": [],
      "source": [
        "features_df = df.drop(columns=[\"home_score\", \"away_score\", \"date\"])\n",
        "y_home = df[\"home_score\"]\n",
        "y_away = df[\"away_score\"]"
      ]
    },
    {
      "cell_type": "code",
      "source": [
        "!pip install category_encoders\n"
      ],
      "metadata": {
        "colab": {
          "base_uri": "https://localhost:8080/"
        },
        "id": "o9nlF4NLAjQC",
        "outputId": "f982313c-9be6-4665-f89a-07fc3254ee38"
      },
      "id": "o9nlF4NLAjQC",
      "execution_count": 44,
      "outputs": [
        {
          "output_type": "stream",
          "name": "stdout",
          "text": [
            "Looking in indexes: https://pypi.org/simple, https://us-python.pkg.dev/colab-wheels/public/simple/\n",
            "Requirement already satisfied: category_encoders in /usr/local/lib/python3.10/dist-packages (2.6.1)\n",
            "Requirement already satisfied: numpy>=1.14.0 in /usr/local/lib/python3.10/dist-packages (from category_encoders) (1.22.4)\n",
            "Requirement already satisfied: scikit-learn>=0.20.0 in /usr/local/lib/python3.10/dist-packages (from category_encoders) (1.2.2)\n",
            "Requirement already satisfied: scipy>=1.0.0 in /usr/local/lib/python3.10/dist-packages (from category_encoders) (1.10.1)\n",
            "Requirement already satisfied: statsmodels>=0.9.0 in /usr/local/lib/python3.10/dist-packages (from category_encoders) (0.13.5)\n",
            "Requirement already satisfied: pandas>=1.0.5 in /usr/local/lib/python3.10/dist-packages (from category_encoders) (1.5.3)\n",
            "Requirement already satisfied: patsy>=0.5.1 in /usr/local/lib/python3.10/dist-packages (from category_encoders) (0.5.3)\n",
            "Requirement already satisfied: python-dateutil>=2.8.1 in /usr/local/lib/python3.10/dist-packages (from pandas>=1.0.5->category_encoders) (2.8.2)\n",
            "Requirement already satisfied: pytz>=2020.1 in /usr/local/lib/python3.10/dist-packages (from pandas>=1.0.5->category_encoders) (2022.7.1)\n",
            "Requirement already satisfied: six in /usr/local/lib/python3.10/dist-packages (from patsy>=0.5.1->category_encoders) (1.16.0)\n",
            "Requirement already satisfied: joblib>=1.1.1 in /usr/local/lib/python3.10/dist-packages (from scikit-learn>=0.20.0->category_encoders) (1.2.0)\n",
            "Requirement already satisfied: threadpoolctl>=2.0.0 in /usr/local/lib/python3.10/dist-packages (from scikit-learn>=0.20.0->category_encoders) (3.1.0)\n",
            "Requirement already satisfied: packaging>=21.3 in /usr/local/lib/python3.10/dist-packages (from statsmodels>=0.9.0->category_encoders) (23.1)\n"
          ]
        }
      ]
    },
    {
      "cell_type": "code",
      "execution_count": 45,
      "id": "55e92ce5",
      "metadata": {
        "id": "55e92ce5"
      },
      "outputs": [],
      "source": [
        "import category_encoders"
      ]
    },
    {
      "cell_type": "code",
      "execution_count": 46,
      "id": "fb925b06",
      "metadata": {
        "colab": {
          "base_uri": "https://localhost:8080/",
          "height": 206
        },
        "id": "fb925b06",
        "outputId": "f2634fba-5843-4abf-d5ad-cc4dfe1cdcbd"
      },
      "outputs": [
        {
          "output_type": "execute_result",
          "data": {
            "text/plain": [
              "   home_team  away_team  tournament      city   country   neutral      year\n",
              "0   0.022318   0.021908    0.004095  0.000205  0.016994  0.556511  0.000819\n",
              "1   0.024570   0.020680    0.004095  0.000205  0.016994  0.443489  0.000819\n",
              "2   0.022113   0.021908    0.004095  0.000614  0.016994  0.443489  0.000819\n",
              "3   0.022318   0.030917    0.004095  0.000614  0.016994  0.556511  0.000819\n",
              "4   0.010442   0.013309    0.054873  0.011671  0.011671  0.443489  0.002048"
            ],
            "text/html": [
              "\n",
              "  <div id=\"df-ca744638-2236-4649-be0c-f08535aca01d\">\n",
              "    <div class=\"colab-df-container\">\n",
              "      <div>\n",
              "<style scoped>\n",
              "    .dataframe tbody tr th:only-of-type {\n",
              "        vertical-align: middle;\n",
              "    }\n",
              "\n",
              "    .dataframe tbody tr th {\n",
              "        vertical-align: top;\n",
              "    }\n",
              "\n",
              "    .dataframe thead th {\n",
              "        text-align: right;\n",
              "    }\n",
              "</style>\n",
              "<table border=\"1\" class=\"dataframe\">\n",
              "  <thead>\n",
              "    <tr style=\"text-align: right;\">\n",
              "      <th></th>\n",
              "      <th>home_team</th>\n",
              "      <th>away_team</th>\n",
              "      <th>tournament</th>\n",
              "      <th>city</th>\n",
              "      <th>country</th>\n",
              "      <th>neutral</th>\n",
              "      <th>year</th>\n",
              "    </tr>\n",
              "  </thead>\n",
              "  <tbody>\n",
              "    <tr>\n",
              "      <th>0</th>\n",
              "      <td>0.022318</td>\n",
              "      <td>0.021908</td>\n",
              "      <td>0.004095</td>\n",
              "      <td>0.000205</td>\n",
              "      <td>0.016994</td>\n",
              "      <td>0.556511</td>\n",
              "      <td>0.000819</td>\n",
              "    </tr>\n",
              "    <tr>\n",
              "      <th>1</th>\n",
              "      <td>0.024570</td>\n",
              "      <td>0.020680</td>\n",
              "      <td>0.004095</td>\n",
              "      <td>0.000205</td>\n",
              "      <td>0.016994</td>\n",
              "      <td>0.443489</td>\n",
              "      <td>0.000819</td>\n",
              "    </tr>\n",
              "    <tr>\n",
              "      <th>2</th>\n",
              "      <td>0.022113</td>\n",
              "      <td>0.021908</td>\n",
              "      <td>0.004095</td>\n",
              "      <td>0.000614</td>\n",
              "      <td>0.016994</td>\n",
              "      <td>0.443489</td>\n",
              "      <td>0.000819</td>\n",
              "    </tr>\n",
              "    <tr>\n",
              "      <th>3</th>\n",
              "      <td>0.022318</td>\n",
              "      <td>0.030917</td>\n",
              "      <td>0.004095</td>\n",
              "      <td>0.000614</td>\n",
              "      <td>0.016994</td>\n",
              "      <td>0.556511</td>\n",
              "      <td>0.000819</td>\n",
              "    </tr>\n",
              "    <tr>\n",
              "      <th>4</th>\n",
              "      <td>0.010442</td>\n",
              "      <td>0.013309</td>\n",
              "      <td>0.054873</td>\n",
              "      <td>0.011671</td>\n",
              "      <td>0.011671</td>\n",
              "      <td>0.443489</td>\n",
              "      <td>0.002048</td>\n",
              "    </tr>\n",
              "  </tbody>\n",
              "</table>\n",
              "</div>\n",
              "      <button class=\"colab-df-convert\" onclick=\"convertToInteractive('df-ca744638-2236-4649-be0c-f08535aca01d')\"\n",
              "              title=\"Convert this dataframe to an interactive table.\"\n",
              "              style=\"display:none;\">\n",
              "        \n",
              "  <svg xmlns=\"http://www.w3.org/2000/svg\" height=\"24px\"viewBox=\"0 0 24 24\"\n",
              "       width=\"24px\">\n",
              "    <path d=\"M0 0h24v24H0V0z\" fill=\"none\"/>\n",
              "    <path d=\"M18.56 5.44l.94 2.06.94-2.06 2.06-.94-2.06-.94-.94-2.06-.94 2.06-2.06.94zm-11 1L8.5 8.5l.94-2.06 2.06-.94-2.06-.94L8.5 2.5l-.94 2.06-2.06.94zm10 10l.94 2.06.94-2.06 2.06-.94-2.06-.94-.94-2.06-.94 2.06-2.06.94z\"/><path d=\"M17.41 7.96l-1.37-1.37c-.4-.4-.92-.59-1.43-.59-.52 0-1.04.2-1.43.59L10.3 9.45l-7.72 7.72c-.78.78-.78 2.05 0 2.83L4 21.41c.39.39.9.59 1.41.59.51 0 1.02-.2 1.41-.59l7.78-7.78 2.81-2.81c.8-.78.8-2.07 0-2.86zM5.41 20L4 18.59l7.72-7.72 1.47 1.35L5.41 20z\"/>\n",
              "  </svg>\n",
              "      </button>\n",
              "      \n",
              "  <style>\n",
              "    .colab-df-container {\n",
              "      display:flex;\n",
              "      flex-wrap:wrap;\n",
              "      gap: 12px;\n",
              "    }\n",
              "\n",
              "    .colab-df-convert {\n",
              "      background-color: #E8F0FE;\n",
              "      border: none;\n",
              "      border-radius: 50%;\n",
              "      cursor: pointer;\n",
              "      display: none;\n",
              "      fill: #1967D2;\n",
              "      height: 32px;\n",
              "      padding: 0 0 0 0;\n",
              "      width: 32px;\n",
              "    }\n",
              "\n",
              "    .colab-df-convert:hover {\n",
              "      background-color: #E2EBFA;\n",
              "      box-shadow: 0px 1px 2px rgba(60, 64, 67, 0.3), 0px 1px 3px 1px rgba(60, 64, 67, 0.15);\n",
              "      fill: #174EA6;\n",
              "    }\n",
              "\n",
              "    [theme=dark] .colab-df-convert {\n",
              "      background-color: #3B4455;\n",
              "      fill: #D2E3FC;\n",
              "    }\n",
              "\n",
              "    [theme=dark] .colab-df-convert:hover {\n",
              "      background-color: #434B5C;\n",
              "      box-shadow: 0px 1px 3px 1px rgba(0, 0, 0, 0.15);\n",
              "      filter: drop-shadow(0px 1px 2px rgba(0, 0, 0, 0.3));\n",
              "      fill: #FFFFFF;\n",
              "    }\n",
              "  </style>\n",
              "\n",
              "      <script>\n",
              "        const buttonEl =\n",
              "          document.querySelector('#df-ca744638-2236-4649-be0c-f08535aca01d button.colab-df-convert');\n",
              "        buttonEl.style.display =\n",
              "          google.colab.kernel.accessAllowed ? 'block' : 'none';\n",
              "\n",
              "        async function convertToInteractive(key) {\n",
              "          const element = document.querySelector('#df-ca744638-2236-4649-be0c-f08535aca01d');\n",
              "          const dataTable =\n",
              "            await google.colab.kernel.invokeFunction('convertToInteractive',\n",
              "                                                     [key], {});\n",
              "          if (!dataTable) return;\n",
              "\n",
              "          const docLinkHtml = 'Like what you see? Visit the ' +\n",
              "            '<a target=\"_blank\" href=https://colab.research.google.com/notebooks/data_table.ipynb>data table notebook</a>'\n",
              "            + ' to learn more about interactive tables.';\n",
              "          element.innerHTML = '';\n",
              "          dataTable['output_type'] = 'display_data';\n",
              "          await google.colab.output.renderOutput(dataTable, element);\n",
              "          const docLink = document.createElement('div');\n",
              "          docLink.innerHTML = docLinkHtml;\n",
              "          element.appendChild(docLink);\n",
              "        }\n",
              "      </script>\n",
              "    </div>\n",
              "  </div>\n",
              "  "
            ]
          },
          "metadata": {},
          "execution_count": 46
        }
      ],
      "source": [
        "### Frequency Encoding\n",
        "features_df_copy = features_df.copy()\n",
        "columns_list = features_df.columns\n",
        "\n",
        "#encode all columns\n",
        "for col in columns_list:\n",
        "  #encoder\n",
        "  encoder = category_encoders.CountEncoder(cols = col, normalize=True)\n",
        "\n",
        "  ##fit and transform\n",
        "  features_df[col] = encoder.fit_transform(features_df[col])\n",
        "\n",
        "features_df.head()"
      ]
    },
    {
      "cell_type": "markdown",
      "id": "45172e2f",
      "metadata": {
        "id": "45172e2f"
      },
      "source": [
        "## Hypertuning parameters for home score"
      ]
    },
    {
      "cell_type": "code",
      "execution_count": 47,
      "id": "68d4ce9f",
      "metadata": {
        "id": "68d4ce9f"
      },
      "outputs": [],
      "source": [
        "from sklearn.ensemble import RandomForestRegressor\n",
        "from sklearn.model_selection import train_test_split\n",
        "from sklearn.metrics import mean_squared_error\n",
        "from sklearn.metrics import r2_score"
      ]
    },
    {
      "cell_type": "code",
      "execution_count": 48,
      "id": "b6a026c9",
      "metadata": {
        "id": "b6a026c9"
      },
      "outputs": [],
      "source": [
        "X_train, X_test, y_train, y_test = train_test_split(features_df, y_home, test_size=0.2, random_state=42)"
      ]
    },
    {
      "cell_type": "code",
      "execution_count": 49,
      "id": "57d1916c",
      "metadata": {
        "id": "57d1916c"
      },
      "outputs": [],
      "source": [
        "model = RandomForestRegressor(random_state=42)"
      ]
    },
    {
      "cell_type": "code",
      "execution_count": 50,
      "id": "66e3ccdb",
      "metadata": {
        "id": "66e3ccdb"
      },
      "outputs": [],
      "source": [
        "model.fit(X_train, y_train)\n",
        "y_pred = model.predict(X_test)\n",
        "mse = mean_squared_error(y_test, y_pred)"
      ]
    },
    {
      "cell_type": "code",
      "execution_count": 51,
      "id": "d9e01c9f",
      "metadata": {
        "colab": {
          "base_uri": "https://localhost:8080/"
        },
        "id": "d9e01c9f",
        "outputId": "75c2bf20-9f65-4a41-9f28-287399e81875"
      },
      "outputs": [
        {
          "output_type": "stream",
          "name": "stdout",
          "text": [
            "Mean-squared error: 4.04388146928473\n"
          ]
        }
      ],
      "source": [
        "print(\"Mean-squared error:\", mse)"
      ]
    },
    {
      "cell_type": "code",
      "execution_count": 52,
      "id": "27ebec30",
      "metadata": {
        "colab": {
          "base_uri": "https://localhost:8080/"
        },
        "id": "27ebec30",
        "outputId": "48615153-4c09-4134-fdb3-dc1887a1aca3"
      },
      "outputs": [
        {
          "output_type": "stream",
          "name": "stdout",
          "text": [
            "R-squared score: 0.44605494687083147\n"
          ]
        }
      ],
      "source": [
        "r2 = r2_score(y_test, y_pred)\n",
        "print(\"R-squared score:\", r2)"
      ]
    },
    {
      "cell_type": "code",
      "execution_count": 53,
      "id": "77c49e63",
      "metadata": {
        "id": "77c49e63"
      },
      "outputs": [],
      "source": [
        "from sklearn.model_selection import GridSearchCV\n",
        "from sklearn.metrics import make_scorer"
      ]
    },
    {
      "cell_type": "code",
      "execution_count": 54,
      "id": "c27f3278",
      "metadata": {
        "colab": {
          "base_uri": "https://localhost:8080/"
        },
        "id": "c27f3278",
        "outputId": "cb5f0f1e-caf7-42c2-b69f-83b625fcfe7e"
      },
      "outputs": [
        {
          "output_type": "stream",
          "name": "stdout",
          "text": [
            "Best parameters: {'max_depth': 5, 'min_samples_leaf': 1, 'min_samples_split': 10, 'n_estimators': 100}\n",
            "Best MSE: 4.526806521611325\n",
            "Best R2: 0.39976987276085557\n",
            "MSE on test set: 4.077894802786777\n",
            "R2 on test set: 0.4413956812674743\n"
          ]
        }
      ],
      "source": [
        "#Hyperparameter tuning using GridSearchCV\n",
        "param_grid = {\n",
        "    'n_estimators': [100, 200, 300],\n",
        "    'max_depth': [None, 5, 10],\n",
        "    'min_samples_split': [2, 5, 10],\n",
        "    'min_samples_leaf': [1, 2, 4]}\n",
        "scoring = {\n",
        "    'MSE': make_scorer(mean_squared_error),\n",
        "    'R2': make_scorer(r2_score)}\n",
        "grid_search = GridSearchCV(estimator=model, param_grid=param_grid, scoring=scoring, refit='MSE', cv=5)\n",
        "grid_search.fit(X_train, y_train)\n",
        "best_params = grid_search.best_params_\n",
        "best_mse = grid_search.best_score_\n",
        "best_r2 = grid_search.cv_results_['mean_test_R2'][grid_search.best_index_]\n",
        "best_model = RandomForestRegressor(**best_params)\n",
        "best_model.fit(X_train, y_train)\n",
        "y_pred = best_model.predict(X_test)\n",
        "mse = mean_squared_error(y_test, y_pred)\n",
        "r2 = r2_score(y_test, y_pred)\n",
        "print(\"Best parameters:\", best_params)\n",
        "print(\"Best MSE:\", best_mse)\n",
        "print(\"Best R2:\", best_r2)\n",
        "print(\"MSE on test set:\", mse)\n",
        "print(\"R2 on test set:\", r2)"
      ]
    },
    {
      "cell_type": "code",
      "execution_count": 55,
      "id": "27d5685d",
      "metadata": {
        "id": "27d5685d"
      },
      "outputs": [],
      "source": [
        "model = RandomForestRegressor(n_estimators=100,max_depth=5, min_samples_split=10, min_samples_leaf=1, random_state=42)"
      ]
    },
    {
      "cell_type": "code",
      "execution_count": 56,
      "id": "defb93b9",
      "metadata": {
        "colab": {
          "base_uri": "https://localhost:8080/"
        },
        "id": "defb93b9",
        "outputId": "51170e06-7872-490f-902e-2fa976f9e19d"
      },
      "outputs": [
        {
          "output_type": "stream",
          "name": "stdout",
          "text": [
            "Mean-squared error: 4.0753167965730155\n",
            "R-squared score: 0.44174882559178175\n"
          ]
        }
      ],
      "source": [
        "import joblib\n",
        "\n",
        "\n",
        "model.fit(X_train, y_train)\n",
        "y_pred = model.predict(X_test)\n",
        "mse = mean_squared_error(y_test, y_pred)\n",
        "r2 = r2_score(y_test, y_pred)\n",
        "print(\"Mean-squared error:\", mse)\n",
        "print(\"R-squared score:\", r2)\n",
        "\n",
        "# Export the model\n",
        "# joblib.dump(model, 'home_score_model.pkl')"
      ]
    },
    {
      "cell_type": "code",
      "execution_count": 57,
      "id": "3fd063c8",
      "metadata": {
        "id": "3fd063c8"
      },
      "outputs": [],
      "source": [
        "X_train, X_test, y_train, y_test = train_test_split(features_df, y_away, test_size=0.2, random_state=42)"
      ]
    },
    {
      "cell_type": "code",
      "execution_count": 58,
      "id": "27e1f8c5",
      "metadata": {
        "colab": {
          "base_uri": "https://localhost:8080/"
        },
        "id": "27e1f8c5",
        "outputId": "a2e7206b-fe50-4cf2-a9a6-5e745068255b"
      },
      "outputs": [
        {
          "output_type": "stream",
          "name": "stdout",
          "text": [
            "Mean-squared error: 2.8864719026174868\n",
            "R-squared score: 0.24106995899253936\n"
          ]
        }
      ],
      "source": [
        "model = RandomForestRegressor(random_state=42)\n",
        "model.fit(X_train, y_train)\n",
        "y_pred = model.predict(X_test)\n",
        "mse = mean_squared_error(y_test, y_pred)\n",
        "print(\"Mean-squared error:\", mse)\n",
        "r2 = r2_score(y_test, y_pred)\n",
        "print(\"R-squared score:\", r2)"
      ]
    },
    {
      "cell_type": "markdown",
      "id": "adb76e5a",
      "metadata": {
        "id": "adb76e5a"
      },
      "source": [
        "## Hypertuning parameters for away score"
      ]
    },
    {
      "cell_type": "code",
      "execution_count": 59,
      "id": "633d6303",
      "metadata": {
        "id": "633d6303"
      },
      "outputs": [],
      "source": [
        "import time"
      ]
    },
    {
      "cell_type": "code",
      "execution_count": 60,
      "id": "35ab7f66",
      "metadata": {
        "colab": {
          "base_uri": "https://localhost:8080/"
        },
        "id": "35ab7f66",
        "outputId": "65131439-20a8-461c-c46a-f22514cb10cb"
      },
      "outputs": [
        {
          "output_type": "stream",
          "name": "stdout",
          "text": [
            "1687287263.8685\n",
            "1687287805.8813906\n",
            "Best parameters: {'max_depth': None, 'min_samples_leaf': 1, 'min_samples_split': 2, 'n_estimators': 100}\n",
            "Best MSE: 2.8407984736759015\n",
            "Best R2: 0.27435718364502354\n",
            "MSE on test set: 2.899961061815753\n",
            "R2 on test set: 0.23752330117327802\n"
          ]
        }
      ],
      "source": [
        "#Hyperparameter tuning using GridSearchCV\n",
        "param_grid = {\n",
        "    'n_estimators': [100, 200, 300],\n",
        "    'max_depth': [None, 5, 10],\n",
        "    'min_samples_split': [2, 5, 10],\n",
        "    'min_samples_leaf': [1, 2, 4]}\n",
        "scoring = {\n",
        "    'MSE': make_scorer(mean_squared_error),\n",
        "    'R2': make_scorer(r2_score)}\n",
        "print(time.time())\n",
        "grid_search = GridSearchCV(estimator=model, param_grid=param_grid, scoring=scoring, refit='MSE', cv=5)\n",
        "grid_search.fit(X_train, y_train)\n",
        "print(time.time())\n",
        "best_params = grid_search.best_params_\n",
        "best_mse = grid_search.best_score_\n",
        "best_r2 = grid_search.cv_results_['mean_test_R2'][grid_search.best_index_]\n",
        "best_model = RandomForestRegressor(**best_params)\n",
        "best_model.fit(X_train, y_train)\n",
        "y_pred = best_model.predict(X_test)\n",
        "mse = mean_squared_error(y_test, y_pred)\n",
        "r2 = r2_score(y_test, y_pred)\n",
        "print(\"Best parameters:\", best_params)\n",
        "print(\"Best MSE:\", best_mse)\n",
        "print(\"Best R2:\", best_r2)\n",
        "print(\"MSE on test set:\", mse)\n",
        "print(\"R2 on test set:\", r2)"
      ]
    },
    {
      "cell_type": "code",
      "execution_count": 61,
      "id": "b0fa6e61",
      "metadata": {
        "colab": {
          "base_uri": "https://localhost:8080/"
        },
        "id": "b0fa6e61",
        "outputId": "d6818d7f-57d1-4b42-c3b8-417a086efdb1"
      },
      "outputs": [
        {
          "output_type": "stream",
          "name": "stdout",
          "text": [
            "Mean-squared error: 2.8864719026174868\n",
            "R-squared score: 0.24106995899253936\n"
          ]
        }
      ],
      "source": [
        "model = RandomForestRegressor(n_estimators=100,max_depth=None, min_samples_split=2, min_samples_leaf=1, random_state=42)\n",
        "model.fit(X_train, y_train)\n",
        "y_pred = model.predict(X_test)\n",
        "mse = mean_squared_error(y_test, y_pred)\n",
        "r2 = r2_score(y_test, y_pred)\n",
        "print(\"Mean-squared error:\", mse)\n",
        "print(\"R-squared score:\", r2)\n",
        "\n",
        "# Export the model\n",
        "# joblib.dump(model, 'away_score_model.pkl')"
      ]
    },
    {
      "cell_type": "markdown",
      "id": "2f4fee3d",
      "metadata": {
        "id": "2f4fee3d"
      },
      "source": [
        "## Predicting the score"
      ]
    },
    {
      "cell_type": "code",
      "execution_count": 62,
      "id": "e084334a",
      "metadata": {
        "id": "e084334a"
      },
      "outputs": [],
      "source": [
        "def prediction(X):\n",
        "    hX_train, hX_test, hy_train, hy_test = train_test_split(features_df, y_home, test_size=0.2, random_state=42)\n",
        "    aX_train, aX_test, ay_train, ay_test = train_test_split(features_df, y_away, test_size=0.2, random_state=42)\n",
        "    hmodel = RandomForestRegressor(n_estimators=100,max_depth=5, min_samples_split=10, min_samples_leaf=1, random_state=42)\n",
        "    amodel = RandomForestRegressor(n_estimators=100,max_depth=None, min_samples_split=2, min_samples_leaf=1, random_state=42)\n",
        "    hmodel.fit(hX_train, hy_train)\n",
        "    amodel.fit(aX_train, ay_train)\n",
        "    hy_pred = hmodel.predict(X)\n",
        "    ay_pred = amodel.predict(X)\n",
        "    print(\"Score:\", np.round(hy_pred).astype(int)\n",
        ", \":\",np.round(ay_pred).astype(int)\n",
        " )\n",
        ""
      ]
    },
    {
      "cell_type": "code",
      "execution_count": 63,
      "id": "532d35cb",
      "metadata": {
        "colab": {
          "base_uri": "https://localhost:8080/"
        },
        "id": "532d35cb",
        "outputId": "40519718-330a-4d46-fed4-9888e2187c30"
      },
      "outputs": [
        {
          "output_type": "execute_result",
          "data": {
            "text/plain": [
              "[0.02231777231777232,\n",
              " 0.02190827190827191,\n",
              " 0.004095004095004095,\n",
              " 0.00020475020475020476,\n",
              " 0.016994266994266993,\n",
              " 0.5565110565110565,\n",
              " 0.000819000819000819]"
            ]
          },
          "metadata": {},
          "execution_count": 63
        }
      ],
      "source": [
        "X=features_df.iloc[0]\n",
        "X=pd.DataFrame(X)\n",
        "a=X.values\n",
        "values= a.flatten().tolist()\n",
        "values"
      ]
    },
    {
      "cell_type": "code",
      "execution_count": 64,
      "id": "bf768270",
      "metadata": {
        "id": "bf768270"
      },
      "outputs": [],
      "source": [
        "input_row = pd.DataFrame([values], columns=['home_team', 'away_team', 'tournament', 'city', 'country','neutral','year'])\n"
      ]
    },
    {
      "cell_type": "code",
      "execution_count": 65,
      "id": "6540293a",
      "metadata": {
        "colab": {
          "base_uri": "https://localhost:8080/"
        },
        "id": "6540293a",
        "outputId": "fec0fada-140e-400a-d93d-65329a5932a8"
      },
      "outputs": [
        {
          "output_type": "stream",
          "name": "stdout",
          "text": [
            "Score: [1] : [1]\n"
          ]
        }
      ],
      "source": [
        "prediction(input_row)"
      ]
    },
    {
      "cell_type": "code",
      "execution_count": 66,
      "id": "1ec3d102",
      "metadata": {
        "colab": {
          "base_uri": "https://localhost:8080/"
        },
        "id": "1ec3d102",
        "outputId": "360bc698-5d89-4b53-8e64-35ed3c947799"
      },
      "outputs": [
        {
          "output_type": "stream",
          "name": "stdout",
          "text": [
            "Score: [1] : [1]\n"
          ]
        }
      ],
      "source": [
        "prediction(input_row)"
      ]
    },
    {
      "cell_type": "code",
      "execution_count": 67,
      "id": "561e7486",
      "metadata": {
        "colab": {
          "base_uri": "https://localhost:8080/"
        },
        "id": "561e7486",
        "outputId": "3692729f-d520-44aa-b399-8f23266d96fe"
      },
      "outputs": [
        {
          "output_type": "stream",
          "name": "stdout",
          "text": [
            "Score: [1] : [1]\n"
          ]
        }
      ],
      "source": [
        "prediction(input_row)"
      ]
    },
    {
      "cell_type": "code",
      "execution_count": 68,
      "id": "41170b1e",
      "metadata": {
        "colab": {
          "base_uri": "https://localhost:8080/"
        },
        "id": "41170b1e",
        "outputId": "56290f53-d3a1-4df9-9e00-d3197e50d85c"
      },
      "outputs": [
        {
          "output_type": "stream",
          "name": "stdout",
          "text": [
            "Score: [1] : [1]\n"
          ]
        }
      ],
      "source": [
        "prediction(input_row)"
      ]
    },
    {
      "cell_type": "markdown",
      "source": [
        "Predicting the score"
      ],
      "metadata": {
        "id": "Bl7FM6kLBGO8"
      },
      "id": "Bl7FM6kLBGO8"
    },
    {
      "cell_type": "code",
      "execution_count": 86,
      "id": "31dba337",
      "metadata": {
        "colab": {
          "base_uri": "https://localhost:8080/"
        },
        "id": "31dba337",
        "outputId": "5fa86256-1a24-450a-c778-2e167f132dd8"
      },
      "outputs": [
        {
          "output_type": "stream",
          "name": "stdout",
          "text": [
            "Italy 2 : 1 England\n",
            "Italy wins!\n"
          ]
        }
      ],
      "source": [
        "import pandas as pd\n",
        "import category_encoders\n",
        "import joblib\n",
        "\n",
        "# Define the input features\n",
        "features = [\"Italy\", \"England\", \"Euro\", \"Novara\", \"Italy\", False, 1969]\n",
        "\n",
        "# Convert the features to a DataFrame\n",
        "features_df = pd.DataFrame([features], columns=[\"home_team\", \"away_team\", \"tournament\", \"city\", \"country\", \"neutral\", \"year\"])\n",
        "\n",
        "# Load the trained models\n",
        "home_model = joblib.load(\"/content/away_score_model.pkl\")\n",
        "away_model = joblib.load(\"/content/home_score_model.pkl\")\n",
        "\n",
        "# Create a function to encode features using frequency encoding\n",
        "def encode_features(features):\n",
        "    features_df = pd.DataFrame([features], columns=[\"home_team\", \"away_team\", \"tournament\", \"city\", \"country\", \"neutral\", \"year\"])\n",
        "\n",
        "    # Frequency Encoding\n",
        "    features_df_copy = features_df.copy()\n",
        "    columns_list = features_df.columns\n",
        "\n",
        "    # Encode all columns\n",
        "    for col in columns_list:\n",
        "        # Encoder\n",
        "        encoder = category_encoders.CountEncoder(cols=col, normalize=True)\n",
        "\n",
        "        # Fit and transform\n",
        "        features_df[col] = encoder.fit_transform(features_df[col])\n",
        "\n",
        "    return features_df\n",
        "\n",
        "# Encode the input features\n",
        "features_df_encoded = encode_features(features)\n",
        "\n",
        "# Make predictions using the models\n",
        "home_score = home_model.predict(features_df_encoded)\n",
        "away_score = away_model.predict(features_df_encoded)\n",
        "\n",
        "# Print the predicted scores\n",
        "print(features[0], int(home_score[0]), \":\", int(away_score[0]), features[1])\n",
        "\n",
        "# Determine the winner\n",
        "if home_score[0] > away_score[0]:\n",
        "    print(features[0], \"wins!\")\n",
        "else:\n",
        "    print(features[1], \"wins!\")\n"
      ]
    }
  ],
  "metadata": {
    "kernelspec": {
      "display_name": "Python 3",
      "language": "python",
      "name": "python3"
    },
    "language_info": {
      "codemirror_mode": {
        "name": "ipython",
        "version": 3
      },
      "file_extension": ".py",
      "mimetype": "text/x-python",
      "name": "python",
      "nbconvert_exporter": "python",
      "pygments_lexer": "ipython3",
      "version": "3.8.8"
    },
    "colab": {
      "provenance": []
    }
  },
  "nbformat": 4,
  "nbformat_minor": 5
}