{
 "cells": [
  {
   "cell_type": "code",
   "execution_count": 2,
   "id": "b8eda84d",
   "metadata": {},
   "outputs": [],
   "source": [
    "import pandas as pd\n",
    "import matplotlib.pyplot as plt\n",
    "import seaborn as sns\n",
    "import numpy as np\n",
    "%matplotlib inline"
   ]
  },
  {
   "cell_type": "code",
   "execution_count": 3,
   "id": "fa7fde0a",
   "metadata": {},
   "outputs": [],
   "source": [
    "df = pd.read_csv(\"cleaned_results.csv\")"
   ]
  },
  {
   "cell_type": "code",
   "execution_count": 65,
   "id": "5f12a124",
   "metadata": {},
   "outputs": [
    {
     "data": {
      "text/html": [
       "<div>\n",
       "<style scoped>\n",
       "    .dataframe tbody tr th:only-of-type {\n",
       "        vertical-align: middle;\n",
       "    }\n",
       "\n",
       "    .dataframe tbody tr th {\n",
       "        vertical-align: top;\n",
       "    }\n",
       "\n",
       "    .dataframe thead th {\n",
       "        text-align: right;\n",
       "    }\n",
       "</style>\n",
       "<table border=\"1\" class=\"dataframe\">\n",
       "  <thead>\n",
       "    <tr style=\"text-align: right;\">\n",
       "      <th></th>\n",
       "      <th>date</th>\n",
       "      <th>home_team</th>\n",
       "      <th>away_team</th>\n",
       "      <th>home_score</th>\n",
       "      <th>away_score</th>\n",
       "      <th>tournament</th>\n",
       "      <th>city</th>\n",
       "      <th>country</th>\n",
       "      <th>neutral</th>\n",
       "      <th>year</th>\n",
       "    </tr>\n",
       "  </thead>\n",
       "  <tbody>\n",
       "    <tr>\n",
       "      <th>4864</th>\n",
       "      <td>2022-07-16</td>\n",
       "      <td>Denmark</td>\n",
       "      <td>Spain</td>\n",
       "      <td>0</td>\n",
       "      <td>1</td>\n",
       "      <td>UEFA Euro</td>\n",
       "      <td>London</td>\n",
       "      <td>Denmark</td>\n",
       "      <td>True</td>\n",
       "      <td>2022</td>\n",
       "    </tr>\n",
       "    <tr>\n",
       "      <th>4865</th>\n",
       "      <td>2022-07-09</td>\n",
       "      <td>Portugal</td>\n",
       "      <td>Switzerland</td>\n",
       "      <td>2</td>\n",
       "      <td>2</td>\n",
       "      <td>UEFA Euro</td>\n",
       "      <td>Leigh</td>\n",
       "      <td>Portugal</td>\n",
       "      <td>True</td>\n",
       "      <td>2022</td>\n",
       "    </tr>\n",
       "    <tr>\n",
       "      <th>4866</th>\n",
       "      <td>2022-07-09</td>\n",
       "      <td>Netherlands</td>\n",
       "      <td>Sweden</td>\n",
       "      <td>1</td>\n",
       "      <td>1</td>\n",
       "      <td>UEFA Euro</td>\n",
       "      <td>Sheffield</td>\n",
       "      <td>Netherlands</td>\n",
       "      <td>True</td>\n",
       "      <td>2022</td>\n",
       "    </tr>\n",
       "    <tr>\n",
       "      <th>4867</th>\n",
       "      <td>2022-07-13</td>\n",
       "      <td>Sweden</td>\n",
       "      <td>Switzerland</td>\n",
       "      <td>2</td>\n",
       "      <td>1</td>\n",
       "      <td>UEFA Euro</td>\n",
       "      <td>Sheffield</td>\n",
       "      <td>Sweden</td>\n",
       "      <td>True</td>\n",
       "      <td>2022</td>\n",
       "    </tr>\n",
       "    <tr>\n",
       "      <th>4868</th>\n",
       "      <td>2022-07-13</td>\n",
       "      <td>Netherlands</td>\n",
       "      <td>Portugal</td>\n",
       "      <td>3</td>\n",
       "      <td>2</td>\n",
       "      <td>UEFA Euro</td>\n",
       "      <td>Leigh</td>\n",
       "      <td>Netherlands</td>\n",
       "      <td>True</td>\n",
       "      <td>2022</td>\n",
       "    </tr>\n",
       "    <tr>\n",
       "      <th>4869</th>\n",
       "      <td>2022-07-17</td>\n",
       "      <td>Switzerland</td>\n",
       "      <td>Netherlands</td>\n",
       "      <td>1</td>\n",
       "      <td>4</td>\n",
       "      <td>UEFA Euro</td>\n",
       "      <td>Sheffield</td>\n",
       "      <td>Switzerland</td>\n",
       "      <td>True</td>\n",
       "      <td>2022</td>\n",
       "    </tr>\n",
       "    <tr>\n",
       "      <th>4870</th>\n",
       "      <td>2022-07-17</td>\n",
       "      <td>Sweden</td>\n",
       "      <td>Portugal</td>\n",
       "      <td>5</td>\n",
       "      <td>0</td>\n",
       "      <td>UEFA Euro</td>\n",
       "      <td>Leigh</td>\n",
       "      <td>Sweden</td>\n",
       "      <td>True</td>\n",
       "      <td>2022</td>\n",
       "    </tr>\n",
       "    <tr>\n",
       "      <th>4871</th>\n",
       "      <td>2022-07-10</td>\n",
       "      <td>Belgium</td>\n",
       "      <td>Iceland</td>\n",
       "      <td>1</td>\n",
       "      <td>1</td>\n",
       "      <td>UEFA Euro</td>\n",
       "      <td>Manchester</td>\n",
       "      <td>Belgium</td>\n",
       "      <td>True</td>\n",
       "      <td>2022</td>\n",
       "    </tr>\n",
       "    <tr>\n",
       "      <th>4872</th>\n",
       "      <td>2022-07-10</td>\n",
       "      <td>France</td>\n",
       "      <td>Italy</td>\n",
       "      <td>5</td>\n",
       "      <td>1</td>\n",
       "      <td>UEFA Euro</td>\n",
       "      <td>Rotherham</td>\n",
       "      <td>France</td>\n",
       "      <td>True</td>\n",
       "      <td>2022</td>\n",
       "    </tr>\n",
       "    <tr>\n",
       "      <th>4873</th>\n",
       "      <td>2022-07-14</td>\n",
       "      <td>Italy</td>\n",
       "      <td>Iceland</td>\n",
       "      <td>1</td>\n",
       "      <td>1</td>\n",
       "      <td>UEFA Euro</td>\n",
       "      <td>Manchester</td>\n",
       "      <td>Italy</td>\n",
       "      <td>True</td>\n",
       "      <td>2022</td>\n",
       "    </tr>\n",
       "    <tr>\n",
       "      <th>4874</th>\n",
       "      <td>2022-07-14</td>\n",
       "      <td>France</td>\n",
       "      <td>Belgium</td>\n",
       "      <td>2</td>\n",
       "      <td>1</td>\n",
       "      <td>UEFA Euro</td>\n",
       "      <td>Rotherham</td>\n",
       "      <td>France</td>\n",
       "      <td>True</td>\n",
       "      <td>2022</td>\n",
       "    </tr>\n",
       "    <tr>\n",
       "      <th>4875</th>\n",
       "      <td>2022-07-18</td>\n",
       "      <td>Iceland</td>\n",
       "      <td>France</td>\n",
       "      <td>1</td>\n",
       "      <td>1</td>\n",
       "      <td>UEFA Euro</td>\n",
       "      <td>Rotherham</td>\n",
       "      <td>Iceland</td>\n",
       "      <td>True</td>\n",
       "      <td>2022</td>\n",
       "    </tr>\n",
       "    <tr>\n",
       "      <th>4876</th>\n",
       "      <td>2022-07-18</td>\n",
       "      <td>Italy</td>\n",
       "      <td>Belgium</td>\n",
       "      <td>0</td>\n",
       "      <td>1</td>\n",
       "      <td>UEFA Euro</td>\n",
       "      <td>Manchester</td>\n",
       "      <td>Italy</td>\n",
       "      <td>True</td>\n",
       "      <td>2022</td>\n",
       "    </tr>\n",
       "    <tr>\n",
       "      <th>4877</th>\n",
       "      <td>2022-07-20</td>\n",
       "      <td>England</td>\n",
       "      <td>Spain</td>\n",
       "      <td>2</td>\n",
       "      <td>1</td>\n",
       "      <td>UEFA Euro</td>\n",
       "      <td>Brighton and Hove</td>\n",
       "      <td>England</td>\n",
       "      <td>False</td>\n",
       "      <td>2022</td>\n",
       "    </tr>\n",
       "    <tr>\n",
       "      <th>4878</th>\n",
       "      <td>2022-07-21</td>\n",
       "      <td>Germany</td>\n",
       "      <td>Austria</td>\n",
       "      <td>2</td>\n",
       "      <td>0</td>\n",
       "      <td>UEFA Euro</td>\n",
       "      <td>London</td>\n",
       "      <td>Germany</td>\n",
       "      <td>True</td>\n",
       "      <td>2022</td>\n",
       "    </tr>\n",
       "    <tr>\n",
       "      <th>4879</th>\n",
       "      <td>2022-07-22</td>\n",
       "      <td>Sweden</td>\n",
       "      <td>Belgium</td>\n",
       "      <td>1</td>\n",
       "      <td>0</td>\n",
       "      <td>UEFA Euro</td>\n",
       "      <td>Leigh</td>\n",
       "      <td>Sweden</td>\n",
       "      <td>True</td>\n",
       "      <td>2022</td>\n",
       "    </tr>\n",
       "    <tr>\n",
       "      <th>4880</th>\n",
       "      <td>2022-07-23</td>\n",
       "      <td>France</td>\n",
       "      <td>Netherlands</td>\n",
       "      <td>1</td>\n",
       "      <td>0</td>\n",
       "      <td>UEFA Euro</td>\n",
       "      <td>Rotherham</td>\n",
       "      <td>France</td>\n",
       "      <td>True</td>\n",
       "      <td>2022</td>\n",
       "    </tr>\n",
       "    <tr>\n",
       "      <th>4881</th>\n",
       "      <td>2022-07-26</td>\n",
       "      <td>England</td>\n",
       "      <td>Sweden</td>\n",
       "      <td>4</td>\n",
       "      <td>0</td>\n",
       "      <td>UEFA Euro</td>\n",
       "      <td>Sheffield</td>\n",
       "      <td>England</td>\n",
       "      <td>False</td>\n",
       "      <td>2022</td>\n",
       "    </tr>\n",
       "    <tr>\n",
       "      <th>4882</th>\n",
       "      <td>2022-07-27</td>\n",
       "      <td>Germany</td>\n",
       "      <td>France</td>\n",
       "      <td>2</td>\n",
       "      <td>1</td>\n",
       "      <td>UEFA Euro</td>\n",
       "      <td>Milton Keynes</td>\n",
       "      <td>Germany</td>\n",
       "      <td>True</td>\n",
       "      <td>2022</td>\n",
       "    </tr>\n",
       "    <tr>\n",
       "      <th>4883</th>\n",
       "      <td>2022-07-31</td>\n",
       "      <td>England</td>\n",
       "      <td>Germany</td>\n",
       "      <td>2</td>\n",
       "      <td>1</td>\n",
       "      <td>UEFA Euro</td>\n",
       "      <td>London</td>\n",
       "      <td>England</td>\n",
       "      <td>False</td>\n",
       "      <td>2022</td>\n",
       "    </tr>\n",
       "  </tbody>\n",
       "</table>\n",
       "</div>"
      ],
      "text/plain": [
       "           date    home_team    away_team  home_score  away_score tournament  \\\n",
       "4864 2022-07-16      Denmark        Spain           0           1  UEFA Euro   \n",
       "4865 2022-07-09     Portugal  Switzerland           2           2  UEFA Euro   \n",
       "4866 2022-07-09  Netherlands       Sweden           1           1  UEFA Euro   \n",
       "4867 2022-07-13       Sweden  Switzerland           2           1  UEFA Euro   \n",
       "4868 2022-07-13  Netherlands     Portugal           3           2  UEFA Euro   \n",
       "4869 2022-07-17  Switzerland  Netherlands           1           4  UEFA Euro   \n",
       "4870 2022-07-17       Sweden     Portugal           5           0  UEFA Euro   \n",
       "4871 2022-07-10      Belgium      Iceland           1           1  UEFA Euro   \n",
       "4872 2022-07-10       France        Italy           5           1  UEFA Euro   \n",
       "4873 2022-07-14        Italy      Iceland           1           1  UEFA Euro   \n",
       "4874 2022-07-14       France      Belgium           2           1  UEFA Euro   \n",
       "4875 2022-07-18      Iceland       France           1           1  UEFA Euro   \n",
       "4876 2022-07-18        Italy      Belgium           0           1  UEFA Euro   \n",
       "4877 2022-07-20      England        Spain           2           1  UEFA Euro   \n",
       "4878 2022-07-21      Germany      Austria           2           0  UEFA Euro   \n",
       "4879 2022-07-22       Sweden      Belgium           1           0  UEFA Euro   \n",
       "4880 2022-07-23       France  Netherlands           1           0  UEFA Euro   \n",
       "4881 2022-07-26      England       Sweden           4           0  UEFA Euro   \n",
       "4882 2022-07-27      Germany       France           2           1  UEFA Euro   \n",
       "4883 2022-07-31      England      Germany           2           1  UEFA Euro   \n",
       "\n",
       "                   city      country  neutral  year  \n",
       "4864             London      Denmark     True  2022  \n",
       "4865              Leigh     Portugal     True  2022  \n",
       "4866          Sheffield  Netherlands     True  2022  \n",
       "4867          Sheffield       Sweden     True  2022  \n",
       "4868              Leigh  Netherlands     True  2022  \n",
       "4869          Sheffield  Switzerland     True  2022  \n",
       "4870              Leigh       Sweden     True  2022  \n",
       "4871         Manchester      Belgium     True  2022  \n",
       "4872          Rotherham       France     True  2022  \n",
       "4873         Manchester        Italy     True  2022  \n",
       "4874          Rotherham       France     True  2022  \n",
       "4875          Rotherham      Iceland     True  2022  \n",
       "4876         Manchester        Italy     True  2022  \n",
       "4877  Brighton and Hove      England    False  2022  \n",
       "4878             London      Germany     True  2022  \n",
       "4879              Leigh       Sweden     True  2022  \n",
       "4880          Rotherham       France     True  2022  \n",
       "4881          Sheffield      England    False  2022  \n",
       "4882      Milton Keynes      Germany     True  2022  \n",
       "4883             London      England    False  2022  "
      ]
     },
     "execution_count": 65,
     "metadata": {},
     "output_type": "execute_result"
    }
   ],
   "source": [
    "df.tail(20)"
   ]
  },
  {
   "cell_type": "code",
   "execution_count": 4,
   "id": "ed0c8032",
   "metadata": {},
   "outputs": [
    {
     "data": {
      "text/html": [
       "<div>\n",
       "<style scoped>\n",
       "    .dataframe tbody tr th:only-of-type {\n",
       "        vertical-align: middle;\n",
       "    }\n",
       "\n",
       "    .dataframe tbody tr th {\n",
       "        vertical-align: top;\n",
       "    }\n",
       "\n",
       "    .dataframe thead th {\n",
       "        text-align: right;\n",
       "    }\n",
       "</style>\n",
       "<table border=\"1\" class=\"dataframe\">\n",
       "  <thead>\n",
       "    <tr style=\"text-align: right;\">\n",
       "      <th></th>\n",
       "      <th>date</th>\n",
       "      <th>home_team</th>\n",
       "      <th>away_team</th>\n",
       "      <th>home_score</th>\n",
       "      <th>away_score</th>\n",
       "      <th>tournament</th>\n",
       "      <th>city</th>\n",
       "      <th>country</th>\n",
       "      <th>neutral</th>\n",
       "      <th>year</th>\n",
       "    </tr>\n",
       "  </thead>\n",
       "  <tbody>\n",
       "    <tr>\n",
       "      <th>0</th>\n",
       "      <td>1969-11-01</td>\n",
       "      <td>Italy</td>\n",
       "      <td>France</td>\n",
       "      <td>1</td>\n",
       "      <td>0</td>\n",
       "      <td>Euro</td>\n",
       "      <td>Novara</td>\n",
       "      <td>Italy</td>\n",
       "      <td>False</td>\n",
       "      <td>1969</td>\n",
       "    </tr>\n",
       "    <tr>\n",
       "      <th>1</th>\n",
       "      <td>1969-11-01</td>\n",
       "      <td>Denmark</td>\n",
       "      <td>England</td>\n",
       "      <td>4</td>\n",
       "      <td>3</td>\n",
       "      <td>Euro</td>\n",
       "      <td>Aosta</td>\n",
       "      <td>Italy</td>\n",
       "      <td>True</td>\n",
       "      <td>1969</td>\n",
       "    </tr>\n",
       "    <tr>\n",
       "      <th>2</th>\n",
       "      <td>1969-11-02</td>\n",
       "      <td>England</td>\n",
       "      <td>France</td>\n",
       "      <td>2</td>\n",
       "      <td>0</td>\n",
       "      <td>Euro</td>\n",
       "      <td>Turin</td>\n",
       "      <td>Italy</td>\n",
       "      <td>True</td>\n",
       "      <td>1969</td>\n",
       "    </tr>\n",
       "    <tr>\n",
       "      <th>3</th>\n",
       "      <td>1969-11-02</td>\n",
       "      <td>Italy</td>\n",
       "      <td>Denmark</td>\n",
       "      <td>3</td>\n",
       "      <td>1</td>\n",
       "      <td>Euro</td>\n",
       "      <td>Turin</td>\n",
       "      <td>Italy</td>\n",
       "      <td>False</td>\n",
       "      <td>1969</td>\n",
       "    </tr>\n",
       "    <tr>\n",
       "      <th>4</th>\n",
       "      <td>1975-08-25</td>\n",
       "      <td>Thailand</td>\n",
       "      <td>Australia</td>\n",
       "      <td>3</td>\n",
       "      <td>2</td>\n",
       "      <td>AFC Championship</td>\n",
       "      <td>Hong Kong</td>\n",
       "      <td>Hong Kong</td>\n",
       "      <td>True</td>\n",
       "      <td>1975</td>\n",
       "    </tr>\n",
       "  </tbody>\n",
       "</table>\n",
       "</div>"
      ],
      "text/plain": [
       "        date home_team  away_team  home_score  away_score        tournament  \\\n",
       "0 1969-11-01     Italy     France           1           0              Euro   \n",
       "1 1969-11-01   Denmark    England           4           3              Euro   \n",
       "2 1969-11-02   England     France           2           0              Euro   \n",
       "3 1969-11-02     Italy    Denmark           3           1              Euro   \n",
       "4 1975-08-25  Thailand  Australia           3           2  AFC Championship   \n",
       "\n",
       "        city    country  neutral  year  \n",
       "0     Novara      Italy    False  1969  \n",
       "1      Aosta      Italy     True  1969  \n",
       "2      Turin      Italy     True  1969  \n",
       "3      Turin      Italy    False  1969  \n",
       "4  Hong Kong  Hong Kong     True  1975  "
      ]
     },
     "execution_count": 4,
     "metadata": {},
     "output_type": "execute_result"
    }
   ],
   "source": [
    "df['date'] = pd.to_datetime(df['date'])\n",
    "df['year'] = df['date'].dt.year\n",
    "df.head()"
   ]
  },
  {
   "cell_type": "code",
   "execution_count": 5,
   "id": "da11ccb8",
   "metadata": {},
   "outputs": [],
   "source": [
    "features_df = df.drop(columns=[\"home_score\", \"away_score\", \"date\"])\n",
    "y_home = df[\"home_score\"]\n",
    "y_away = df[\"away_score\"]"
   ]
  },
  {
   "cell_type": "code",
   "execution_count": 6,
   "id": "55e92ce5",
   "metadata": {},
   "outputs": [],
   "source": [
    "import category_encoders"
   ]
  },
  {
   "cell_type": "code",
   "execution_count": 7,
   "id": "fb925b06",
   "metadata": {},
   "outputs": [
    {
     "data": {
      "text/html": [
       "<div>\n",
       "<style scoped>\n",
       "    .dataframe tbody tr th:only-of-type {\n",
       "        vertical-align: middle;\n",
       "    }\n",
       "\n",
       "    .dataframe tbody tr th {\n",
       "        vertical-align: top;\n",
       "    }\n",
       "\n",
       "    .dataframe thead th {\n",
       "        text-align: right;\n",
       "    }\n",
       "</style>\n",
       "<table border=\"1\" class=\"dataframe\">\n",
       "  <thead>\n",
       "    <tr style=\"text-align: right;\">\n",
       "      <th></th>\n",
       "      <th>home_team</th>\n",
       "      <th>away_team</th>\n",
       "      <th>tournament</th>\n",
       "      <th>city</th>\n",
       "      <th>country</th>\n",
       "      <th>neutral</th>\n",
       "      <th>year</th>\n",
       "    </tr>\n",
       "  </thead>\n",
       "  <tbody>\n",
       "    <tr>\n",
       "      <th>0</th>\n",
       "      <td>0.022318</td>\n",
       "      <td>0.021908</td>\n",
       "      <td>0.004095</td>\n",
       "      <td>0.000205</td>\n",
       "      <td>0.016994</td>\n",
       "      <td>0.556511</td>\n",
       "      <td>0.000819</td>\n",
       "    </tr>\n",
       "    <tr>\n",
       "      <th>1</th>\n",
       "      <td>0.024570</td>\n",
       "      <td>0.020680</td>\n",
       "      <td>0.004095</td>\n",
       "      <td>0.000205</td>\n",
       "      <td>0.016994</td>\n",
       "      <td>0.443489</td>\n",
       "      <td>0.000819</td>\n",
       "    </tr>\n",
       "    <tr>\n",
       "      <th>2</th>\n",
       "      <td>0.022113</td>\n",
       "      <td>0.021908</td>\n",
       "      <td>0.004095</td>\n",
       "      <td>0.000614</td>\n",
       "      <td>0.016994</td>\n",
       "      <td>0.443489</td>\n",
       "      <td>0.000819</td>\n",
       "    </tr>\n",
       "    <tr>\n",
       "      <th>3</th>\n",
       "      <td>0.022318</td>\n",
       "      <td>0.030917</td>\n",
       "      <td>0.004095</td>\n",
       "      <td>0.000614</td>\n",
       "      <td>0.016994</td>\n",
       "      <td>0.556511</td>\n",
       "      <td>0.000819</td>\n",
       "    </tr>\n",
       "    <tr>\n",
       "      <th>4</th>\n",
       "      <td>0.010442</td>\n",
       "      <td>0.013309</td>\n",
       "      <td>0.054873</td>\n",
       "      <td>0.011671</td>\n",
       "      <td>0.011671</td>\n",
       "      <td>0.443489</td>\n",
       "      <td>0.002048</td>\n",
       "    </tr>\n",
       "  </tbody>\n",
       "</table>\n",
       "</div>"
      ],
      "text/plain": [
       "   home_team  away_team  tournament      city   country   neutral      year\n",
       "0   0.022318   0.021908    0.004095  0.000205  0.016994  0.556511  0.000819\n",
       "1   0.024570   0.020680    0.004095  0.000205  0.016994  0.443489  0.000819\n",
       "2   0.022113   0.021908    0.004095  0.000614  0.016994  0.443489  0.000819\n",
       "3   0.022318   0.030917    0.004095  0.000614  0.016994  0.556511  0.000819\n",
       "4   0.010442   0.013309    0.054873  0.011671  0.011671  0.443489  0.002048"
      ]
     },
     "execution_count": 7,
     "metadata": {},
     "output_type": "execute_result"
    }
   ],
   "source": [
    "### Frequency Encoding\n",
    "features_df_copy = features_df.copy()\n",
    "columns_list = features_df.columns\n",
    "\n",
    "#encode all columns\n",
    "for col in columns_list:\n",
    "  #encoder\n",
    "  encoder = category_encoders.CountEncoder(cols = col, normalize=True)\n",
    "\n",
    "  ##fit and transform\n",
    "  features_df[col] = encoder.fit_transform(features_df[col])\n",
    "\n",
    "features_df.head()"
   ]
  },
  {
   "cell_type": "markdown",
   "id": "45172e2f",
   "metadata": {},
   "source": [
    "## Hypertuning parameters for home score"
   ]
  },
  {
   "cell_type": "code",
   "execution_count": 8,
   "id": "68d4ce9f",
   "metadata": {},
   "outputs": [],
   "source": [
    "from sklearn.ensemble import RandomForestRegressor\n",
    "from sklearn.model_selection import train_test_split\n",
    "from sklearn.metrics import mean_squared_error\n",
    "from sklearn.metrics import r2_score"
   ]
  },
  {
   "cell_type": "code",
   "execution_count": 19,
   "id": "b6a026c9",
   "metadata": {},
   "outputs": [],
   "source": [
    "X_train, X_test, y_train, y_test = train_test_split(features_df, y_home, test_size=0.2, random_state=42)"
   ]
  },
  {
   "cell_type": "code",
   "execution_count": 42,
   "id": "57d1916c",
   "metadata": {},
   "outputs": [],
   "source": [
    "model = RandomForestRegressor(random_state=42)"
   ]
  },
  {
   "cell_type": "code",
   "execution_count": 43,
   "id": "66e3ccdb",
   "metadata": {},
   "outputs": [],
   "source": [
    "model.fit(X_train, y_train)\n",
    "y_pred = model.predict(X_test)\n",
    "mse = mean_squared_error(y_test, y_pred)"
   ]
  },
  {
   "cell_type": "code",
   "execution_count": 44,
   "id": "d9e01c9f",
   "metadata": {},
   "outputs": [
    {
     "name": "stdout",
     "output_type": "stream",
     "text": [
      "Mean-squared error: 4.04388146928473\n"
     ]
    }
   ],
   "source": [
    "print(\"Mean-squared error:\", mse)"
   ]
  },
  {
   "cell_type": "code",
   "execution_count": 45,
   "id": "27ebec30",
   "metadata": {},
   "outputs": [
    {
     "name": "stdout",
     "output_type": "stream",
     "text": [
      "R-squared score: 0.44605494687083147\n"
     ]
    }
   ],
   "source": [
    "r2 = r2_score(y_test, y_pred)\n",
    "print(\"R-squared score:\", r2)"
   ]
  },
  {
   "cell_type": "code",
   "execution_count": 15,
   "id": "77c49e63",
   "metadata": {},
   "outputs": [],
   "source": [
    "from sklearn.model_selection import GridSearchCV\n",
    "from sklearn.metrics import make_scorer"
   ]
  },
  {
   "cell_type": "code",
   "execution_count": 47,
   "id": "c27f3278",
   "metadata": {},
   "outputs": [
    {
     "name": "stdout",
     "output_type": "stream",
     "text": [
      "Best parameters: {'max_depth': 5, 'min_samples_leaf': 1, 'min_samples_split': 10, 'n_estimators': 100}\n",
      "Best MSE: 4.526806521611325\n",
      "Best R2: 0.39976987276085557\n",
      "MSE on test set: 4.076030657495665\n",
      "R2 on test set: 0.4416510384212804\n"
     ]
    }
   ],
   "source": [
    "#Hyperparameter tuning using GridSearchCV\n",
    "param_grid = {\n",
    "    'n_estimators': [100, 200, 300],\n",
    "    'max_depth': [None, 5, 10],\n",
    "    'min_samples_split': [2, 5, 10],\n",
    "    'min_samples_leaf': [1, 2, 4]}\n",
    "scoring = {\n",
    "    'MSE': make_scorer(mean_squared_error),\n",
    "    'R2': make_scorer(r2_score)}\n",
    "grid_search = GridSearchCV(estimator=model, param_grid=param_grid, scoring=scoring, refit='MSE', cv=5)\n",
    "grid_search.fit(X_train, y_train)\n",
    "best_params = grid_search.best_params_\n",
    "best_mse = grid_search.best_score_\n",
    "best_r2 = grid_search.cv_results_['mean_test_R2'][grid_search.best_index_]\n",
    "best_model = RandomForestRegressor(**best_params)\n",
    "best_model.fit(X_train, y_train)\n",
    "y_pred = best_model.predict(X_test)\n",
    "mse = mean_squared_error(y_test, y_pred)\n",
    "r2 = r2_score(y_test, y_pred)\n",
    "print(\"Best parameters:\", best_params)\n",
    "print(\"Best MSE:\", best_mse)\n",
    "print(\"Best R2:\", best_r2)\n",
    "print(\"MSE on test set:\", mse)\n",
    "print(\"R2 on test set:\", r2)"
   ]
  },
  {
   "cell_type": "code",
   "execution_count": 48,
   "id": "27d5685d",
   "metadata": {},
   "outputs": [],
   "source": [
    "model = RandomForestRegressor(n_estimators=100,max_depth=5, min_samples_split=10, min_samples_leaf=1, random_state=42)"
   ]
  },
  {
   "cell_type": "code",
   "execution_count": 49,
   "id": "defb93b9",
   "metadata": {},
   "outputs": [
    {
     "name": "stdout",
     "output_type": "stream",
     "text": [
      "Mean-squared error: 4.0753167965730155\n",
      "R-squared score: 0.44174882559178175\n"
     ]
    }
   ],
   "source": [
    "model.fit(X_train, y_train)\n",
    "y_pred = model.predict(X_test)\n",
    "mse = mean_squared_error(y_test, y_pred)\n",
    "r2 = r2_score(y_test, y_pred)\n",
    "print(\"Mean-squared error:\", mse)\n",
    "print(\"R-squared score:\", r2)"
   ]
  },
  {
   "cell_type": "code",
   "execution_count": 20,
   "id": "3fd063c8",
   "metadata": {},
   "outputs": [],
   "source": [
    "X_train, X_test, y_train, y_test = train_test_split(features_df, y_away, test_size=0.2, random_state=42)"
   ]
  },
  {
   "cell_type": "code",
   "execution_count": 14,
   "id": "27e1f8c5",
   "metadata": {},
   "outputs": [
    {
     "name": "stdout",
     "output_type": "stream",
     "text": [
      "Mean-squared error: 2.8864719026174868\n",
      "R-squared score: 0.24106995899253936\n"
     ]
    }
   ],
   "source": [
    "model = RandomForestRegressor(random_state=42)\n",
    "model.fit(X_train, y_train)\n",
    "y_pred = model.predict(X_test)\n",
    "mse = mean_squared_error(y_test, y_pred)\n",
    "print(\"Mean-squared error:\", mse)\n",
    "r2 = r2_score(y_test, y_pred)\n",
    "print(\"R-squared score:\", r2)"
   ]
  },
  {
   "cell_type": "markdown",
   "id": "adb76e5a",
   "metadata": {},
   "source": [
    "## Hypertuning parameters for away score"
   ]
  },
  {
   "cell_type": "code",
   "execution_count": 16,
   "id": "633d6303",
   "metadata": {},
   "outputs": [],
   "source": [
    "import time"
   ]
  },
  {
   "cell_type": "code",
   "execution_count": 17,
   "id": "35ab7f66",
   "metadata": {},
   "outputs": [
    {
     "name": "stdout",
     "output_type": "stream",
     "text": [
      "1687152488.398727\n",
      "1687152994.367168\n",
      "Best parameters: {'max_depth': None, 'min_samples_leaf': 1, 'min_samples_split': 2, 'n_estimators': 100}\n",
      "Best MSE: 2.8407984736759015\n",
      "Best R2: 0.27435718364502354\n",
      "MSE on test set: 2.864652179713339\n",
      "R2 on test set: 0.24680694301909445\n"
     ]
    }
   ],
   "source": [
    "#Hyperparameter tuning using GridSearchCV\n",
    "param_grid = {\n",
    "    'n_estimators': [100, 200, 300],\n",
    "    'max_depth': [None, 5, 10],\n",
    "    'min_samples_split': [2, 5, 10],\n",
    "    'min_samples_leaf': [1, 2, 4]}\n",
    "scoring = {\n",
    "    'MSE': make_scorer(mean_squared_error),\n",
    "    'R2': make_scorer(r2_score)}\n",
    "print(time.time())\n",
    "grid_search = GridSearchCV(estimator=model, param_grid=param_grid, scoring=scoring, refit='MSE', cv=5)\n",
    "grid_search.fit(X_train, y_train)\n",
    "print(time.time())\n",
    "best_params = grid_search.best_params_\n",
    "best_mse = grid_search.best_score_\n",
    "best_r2 = grid_search.cv_results_['mean_test_R2'][grid_search.best_index_]\n",
    "best_model = RandomForestRegressor(**best_params)\n",
    "best_model.fit(X_train, y_train)\n",
    "y_pred = best_model.predict(X_test)\n",
    "mse = mean_squared_error(y_test, y_pred)\n",
    "r2 = r2_score(y_test, y_pred)\n",
    "print(\"Best parameters:\", best_params)\n",
    "print(\"Best MSE:\", best_mse)\n",
    "print(\"Best R2:\", best_r2)\n",
    "print(\"MSE on test set:\", mse)\n",
    "print(\"R2 on test set:\", r2)"
   ]
  },
  {
   "cell_type": "code",
   "execution_count": 18,
   "id": "b0fa6e61",
   "metadata": {},
   "outputs": [
    {
     "name": "stdout",
     "output_type": "stream",
     "text": [
      "Mean-squared error: 2.8864719026174868\n",
      "R-squared score: 0.24106995899253936\n"
     ]
    }
   ],
   "source": [
    "model = RandomForestRegressor(n_estimators=100,max_depth=None, min_samples_split=2, min_samples_leaf=1, random_state=42)\n",
    "model.fit(X_train, y_train)\n",
    "y_pred = model.predict(X_test)\n",
    "mse = mean_squared_error(y_test, y_pred)\n",
    "r2 = r2_score(y_test, y_pred)\n",
    "print(\"Mean-squared error:\", mse)\n",
    "print(\"R-squared score:\", r2)"
   ]
  },
  {
   "cell_type": "markdown",
   "id": "2f4fee3d",
   "metadata": {},
   "source": [
    "## Predicting the score"
   ]
  },
  {
   "cell_type": "code",
   "execution_count": 48,
   "id": "e084334a",
   "metadata": {},
   "outputs": [],
   "source": [
    "def prediction(X):\n",
    "    hX_train, hX_test, hy_train, hy_test = train_test_split(features_df, y_home, test_size=0.2, random_state=42)\n",
    "    aX_train, aX_test, ay_train, ay_test = train_test_split(features_df, y_away, test_size=0.2, random_state=42)\n",
    "    hmodel = RandomForestRegressor(n_estimators=100,max_depth=5, min_samples_split=10, min_samples_leaf=1, random_state=42)\n",
    "    amodel = RandomForestRegressor(n_estimators=100,max_depth=None, min_samples_split=2, min_samples_leaf=1, random_state=42)\n",
    "    hmodel.fit(hX_train, hy_train)\n",
    "    amodel.fit(aX_train, ay_train)\n",
    "    hy_pred = hmodel.predict(X)\n",
    "    ay_pred = amodel.predict(X)\n",
    "    print(\"Score:\", np.round(hy_pred).astype(int)\n",
    ", \":\",np.round(ay_pred).astype(int)\n",
    " )\n",
    "    "
   ]
  },
  {
   "cell_type": "code",
   "execution_count": 85,
   "id": "532d35cb",
   "metadata": {},
   "outputs": [
    {
     "data": {
      "text/plain": [
       "[0.0038902538902538903,\n",
       " 0.005733005733005733,\n",
       " 0.054873054873054876,\n",
       " 0.009009009009009009,\n",
       " 0.011466011466011465,\n",
       " 0.44348894348894347,\n",
       " 0.011056511056511056]"
      ]
     },
     "execution_count": 85,
     "metadata": {},
     "output_type": "execute_result"
    }
   ],
   "source": [
    "X=features_df.iloc[111]\n",
    "X=pd.DataFrame(X)\n",
    "a=X.values\n",
    "values= a.flatten().tolist()\n",
    "values"
   ]
  },
  {
   "cell_type": "code",
   "execution_count": 86,
   "id": "bf768270",
   "metadata": {},
   "outputs": [],
   "source": [
    "input_row = pd.DataFrame([values], columns=['home_team', 'away_team', 'tournament', 'city', 'country','neutral','year'])\n"
   ]
  },
  {
   "cell_type": "code",
   "execution_count": 74,
   "id": "6540293a",
   "metadata": {},
   "outputs": [
    {
     "name": "stdout",
     "output_type": "stream",
     "text": [
      "Score: [1] : [1]\n"
     ]
    }
   ],
   "source": [
    "prediction(input_row)"
   ]
  },
  {
   "cell_type": "code",
   "execution_count": 77,
   "id": "1ec3d102",
   "metadata": {},
   "outputs": [
    {
     "name": "stdout",
     "output_type": "stream",
     "text": [
      "Score: [6] : [0]\n"
     ]
    }
   ],
   "source": [
    "prediction(input_row)"
   ]
  },
  {
   "cell_type": "code",
   "execution_count": 82,
   "id": "561e7486",
   "metadata": {},
   "outputs": [
    {
     "name": "stdout",
     "output_type": "stream",
     "text": [
      "Score: [5] : [0]\n"
     ]
    }
   ],
   "source": [
    "prediction(input_row)"
   ]
  },
  {
   "cell_type": "code",
   "execution_count": 87,
   "id": "41170b1e",
   "metadata": {},
   "outputs": [
    {
     "name": "stdout",
     "output_type": "stream",
     "text": [
      "Score: [2] : [0]\n"
     ]
    }
   ],
   "source": [
    "prediction(input_row)"
   ]
  },
  {
   "cell_type": "code",
   "execution_count": null,
   "id": "31dba337",
   "metadata": {},
   "outputs": [],
   "source": []
  }
 ],
 "metadata": {
  "kernelspec": {
   "display_name": "Python 3",
   "language": "python",
   "name": "python3"
  },
  "language_info": {
   "codemirror_mode": {
    "name": "ipython",
    "version": 3
   },
   "file_extension": ".py",
   "mimetype": "text/x-python",
   "name": "python",
   "nbconvert_exporter": "python",
   "pygments_lexer": "ipython3",
   "version": "3.8.8"
  }
 },
 "nbformat": 4,
 "nbformat_minor": 5
}
